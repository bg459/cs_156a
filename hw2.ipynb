{
 "cells": [
  {
   "cell_type": "markdown",
   "metadata": {},
   "source": [
    "## Problem 1"
   ]
  },
  {
   "cell_type": "code",
   "execution_count": 4,
   "metadata": {},
   "outputs": [],
   "source": [
    "import numpy as np\n"
   ]
  },
  {
   "cell_type": "code",
   "execution_count": 15,
   "metadata": {},
   "outputs": [],
   "source": [
    "v_1s = []\n",
    "v_mins = []\n",
    "v_rands = []\n",
    "for i in range(100000):\n",
    "    flips = np.random.randint(2, size = (1000, 10))\n",
    "    sums = np.sum(flips, axis = 1)\n",
    "    v_1 = sums[0]/10\n",
    "    v_min = sums[np.argmin(sums)]/10\n",
    "    v_rand = np.random.choice(sums)/10\n",
    "    v_1s.append(v_1)\n",
    "    v_mins.append(v_min)\n",
    "    v_rands.append(v_rand)\n",
    "\n",
    "\n"
   ]
  },
  {
   "cell_type": "code",
   "execution_count": 17,
   "metadata": {},
   "outputs": [
    {
     "data": {
      "text/plain": [
       "0.03777"
      ]
     },
     "execution_count": 17,
     "metadata": {},
     "output_type": "execute_result"
    }
   ],
   "source": [
    "np.mean(v_mins)\n",
    "# B"
   ]
  },
  {
   "cell_type": "markdown",
   "metadata": {},
   "source": [
    "## Problem 2"
   ]
  },
  {
   "cell_type": "code",
   "execution_count": 18,
   "metadata": {},
   "outputs": [
    {
     "data": {
      "text/plain": [
       "(array([   87.,   994., 16172.,     0., 20427., 45093., 11780.,     0.,\n",
       "         4329.,  1118.]),\n",
       " array([0. , 0.1, 0.2, 0.3, 0.4, 0.5, 0.6, 0.7, 0.8, 0.9, 1. ]),\n",
       " <a list of 10 Patch objects>)"
      ]
     },
     "execution_count": 18,
     "metadata": {},
     "output_type": "execute_result"
    },
    {
     "data": {
      "image/png": "[encoded data removed]",
      "text/plain": [
       "<Figure size 432x288 with 1 Axes>"
      ]
     },
     "metadata": {
      "needs_background": "light"
     },
     "output_type": "display_data"
    }
   ],
   "source": [
    "import matplotlib.pyplot as plt\n",
    "plt.hist(v_1s)"
   ]
  },
  {
   "cell_type": "code",
   "execution_count": 19,
   "metadata": {},
   "outputs": [
    {
     "data": {
      "text/plain": [
       "(array([62230.,     0.,     0.,     0.,     0.,     0.,     0.,     0.,\n",
       "            0., 37770.]),\n",
       " array([0.  , 0.01, 0.02, 0.03, 0.04, 0.05, 0.06, 0.07, 0.08, 0.09, 0.1 ]),\n",
       " <a list of 10 Patch objects>)"
      ]
     },
     "execution_count": 19,
     "metadata": {},
     "output_type": "execute_result"
    },
    {
     "data": {
      "image/png": "[encoded data removed]",
      "text/plain": [
       "<Figure size 432x288 with 1 Axes>"
      ]
     },
     "metadata": {
      "needs_background": "light"
     },
     "output_type": "display_data"
    }
   ],
   "source": [
    "plt.hist(v_mins)"
   ]
  },
  {
   "cell_type": "code",
   "execution_count": 21,
   "metadata": {},
   "outputs": [
    {
     "data": {
      "text/plain": [
       "(array([   88.,   980., 16186.,     0., 20522., 44884., 11798.,     0.,\n",
       "         4490.,  1052.]),\n",
       " array([0. , 0.1, 0.2, 0.3, 0.4, 0.5, 0.6, 0.7, 0.8, 0.9, 1. ]),\n",
       " <a list of 10 Patch objects>)"
      ]
     },
     "execution_count": 21,
     "metadata": {},
     "output_type": "execute_result"
    },
    {
     "data": {
      "image/png": "[encoded data removed]",
      "text/plain": [
       "<Figure size 432x288 with 1 Axes>"
      ]
     },
     "metadata": {
      "needs_background": "light"
     },
     "output_type": "display_data"
    }
   ],
   "source": [
    "plt.hist(v_rands)"
   ]
  },
  {
   "cell_type": "code",
   "execution_count": 22,
   "metadata": {},
   "outputs": [],
   "source": [
    "# D"
   ]
  },
  {
   "cell_type": "markdown",
   "metadata": {},
   "source": [
    "## Problem 3"
   ]
  },
  {
   "cell_type": "code",
   "execution_count": 23,
   "metadata": {},
   "outputs": [],
   "source": [
    "# Either wrong wrong or right right: D"
   ]
  },
  {
   "cell_type": "markdown",
   "metadata": {},
   "source": [
    "## Problem 4"
   ]
  },
  {
   "cell_type": "code",
   "execution_count": 24,
   "metadata": {},
   "outputs": [],
   "source": [
    "# When the mu's cancel, so when lambda = 0.5"
   ]
  },
  {
   "cell_type": "markdown",
   "metadata": {},
   "source": [
    "## Problem 5\n",
    "\n",
    "Code for the Linear Regression Algorithm"
   ]
  },
  {
   "cell_type": "code",
   "execution_count": 128,
   "metadata": {},
   "outputs": [],
   "source": [
    "# Code for Creating the Data\n",
    "import random\n",
    "import numpy as np \n",
    "import matplotlib.pyplot as plt \n",
    "\n",
    "# randomly generates a point\n",
    "def generate_point():\n",
    "    x, y = random.uniform(-1, 1), random.uniform(-1, 1)\n",
    "    return (x, y)\n",
    "\n",
    "class Data:\n",
    "\n",
    "    def target_function(self, x):\n",
    "        if x[0] * self.target_m + self.target_b > x[1]:\n",
    "            return -1\n",
    "        else:\n",
    "            return 1    \n",
    "\n",
    "\n",
    "    def __init__(self, num_points):\n",
    "        p0 = generate_point()\n",
    "        p1 = generate_point()\n",
    "        self.target_m = (p1[1] - p0[1]) / (p1[0] - p0[0])\n",
    "        self.target_b = p0[1] - self.target_m * p0[0]\n",
    "\n",
    "        self.X = []\n",
    "        self.Y = []\n",
    "        for i in range(num_points):\n",
    "            pt = generate_point()\n",
    "            self.X.append(pt)\n",
    "            self.Y.append(self.target_function(pt))\n",
    "\n",
    "    def plot(self):\n",
    "        cs = [\"red\" if y > 0 else \"blue\" for y in self.Y]\n",
    "        plt.scatter([x[0] for x in self.X], [x[1] for x in self.X], c=cs)\n",
    "        plt.plot((-1, 1), \n",
    "                 (-self.target_m+self.target_b, self.target_m+self.target_b))\n",
    "        plt.gca().set_aspect(1)\n",
    "        plt.xlim([-1, 1])\n",
    "        plt.ylim([-1, 1])\n",
    "        plt.title(\"Target function\")\n",
    "        plt.show()\n",
    "        \n",
    "class LinReg():\n",
    "    def evaluate(self, p):\n",
    "        return self.w[0] * 1 + self.w[1] * p[0] + self.w[2] * p[1]\n",
    "\n",
    "    def __init__(self, dataset):\n",
    "        self.w = [0, 0, 0]\n",
    "        self.dataset = dataset\n",
    "        \n",
    "    def fit(self):\n",
    "        X = np.array(self.dataset.X)\n",
    "        N = X.shape[0]\n",
    "        x_0 = np.ones((N, 1))\n",
    "        X = np.concatenate((X, x_0), axis = 1)\n",
    "        y = self.dataset.Y\n",
    "        p_inverse = np.dot(np.linalg.inv(np.dot(np.transpose(X), X)) , np.transpose(X))\n",
    "        self.w = np.dot(p_inverse, y)\n",
    "        \n",
    "    def plot(self):\n",
    "        cs = [\"red\" if y > 0 else \"blue\" for y in self.dataset.Y]\n",
    "        plt.scatter([x[0] for x in self.dataset.X], [x[1] for x in self.dataset.X], c=cs)\n",
    "        y_left = (self.w[1] - self.w[0]) / self.w[2]\n",
    "        y_right = (-self.w[1] - self.w[0]) / self.w[2]\n",
    "        plt.plot((-1,1), (y_left, y_right))\n",
    "        plt.gca().set_aspect(1)\n",
    "        plt.xlim([-1, 1])\n",
    "        plt.ylim([-1, 1])\n",
    "        plt.title(\"Candidate function found with PLA\")\n",
    "        plt.show()\n",
    "        "
   ]
  },
  {
   "cell_type": "code",
   "execution_count": 70,
   "metadata": {},
   "outputs": [],
   "source": [
    "# Problem 5\n",
    "e_in = []\n",
    "for i in range(1000):\n",
    "    \n",
    "    d = Data(100)\n",
    "    lr = LinReg(dataset = d)\n",
    "    lr.fit()\n",
    "    wrong = 0\n",
    "    for j in range(100):\n",
    "        guess = int(np.sign(lr.evaluate(d.X[j])))\n",
    "        if guess != d.Y[j]:\n",
    "            wrong += 1\n",
    "    e_in.append(wrong/1000)\n"
   ]
  },
  {
   "cell_type": "code",
   "execution_count": 71,
   "metadata": {},
   "outputs": [
    {
     "data": {
      "text/plain": [
       "0.04852700000000001"
      ]
     },
     "execution_count": 71,
     "metadata": {},
     "output_type": "execute_result"
    }
   ],
   "source": [
    "np.mean(e_in)\n",
    "#C"
   ]
  },
  {
   "cell_type": "code",
   "execution_count": 74,
   "metadata": {},
   "outputs": [],
   "source": [
    "# Problem 6\n",
    "e_out = []\n",
    "for i in range(1000):\n",
    "    \n",
    "    d = Data(100)\n",
    "    lr = LinReg(dataset = d)\n",
    "    lr.fit()\n",
    "    wrong = 0\n",
    "    fresh_data = Data(1000)\n",
    "    for j in range(1000):\n",
    "        guess = int(np.sign(lr.evaluate(fresh_data.X[j])))\n",
    "        if guess != fresh_data.Y[j]:\n",
    "            wrong += 1\n",
    "    e_out.append(wrong/1000)"
   ]
  },
  {
   "cell_type": "code",
   "execution_count": 75,
   "metadata": {},
   "outputs": [
    {
     "data": {
      "text/plain": [
       "0.503764"
      ]
     },
     "execution_count": 75,
     "metadata": {},
     "output_type": "execute_result"
    }
   ],
   "source": [
    "np.mean(e_out)\n",
    "# E Wow... this is bad, did not expect that!"
   ]
  },
  {
   "cell_type": "markdown",
   "metadata": {},
   "source": [
    "## Problem 7\n",
    "Reimplementing PLA with weight initialization"
   ]
  },
  {
   "cell_type": "code",
   "execution_count": 78,
   "metadata": {},
   "outputs": [],
   "source": [
    "\n",
    "class PLA:\n",
    "    def evaluate(self, p):\n",
    "        return int(np.sign(self.w[0]*1 + self.w[1]*p[0] + self.w[2]*p[1]))\n",
    "\n",
    "    def __init__(self, dataset, w):\n",
    "        self.w = w\n",
    "        self.dataset = dataset\n",
    "\n",
    "    def fit(self, plot_iters = False):\n",
    "        self.w = np.array([0,0,0])\n",
    "        num_iters = 0\n",
    "\n",
    "        while True:\n",
    "            missed = []\n",
    "            for (x,y) in zip(self.dataset.X, self.dataset.Y):\n",
    "                if self.evaluate(x) != y:\n",
    "                    missed.append((np.array([1, x[0], x[1]]), y))\n",
    "            if len(missed) > 0:\n",
    "                num_iters += 1\n",
    "                (x,y) = random.choice(missed)\n",
    "                self.w = self.w + y * x \n",
    "                \n",
    "            else: \n",
    "                if plot_iters:\n",
    "                    self.plot()\n",
    "                return num_iters\n",
    "\n",
    "    def plot(self):\n",
    "        cs = [\"red\" if y > 0 else \"blue\" for y in self.dataset.Y]\n",
    "        plt.scatter([x[0] for x in self.dataset.X], [x[1] for x in self.dataset.X], c=cs)\n",
    "        y_left = (self.w[1] - self.w[0]) / self.w[2]\n",
    "        y_right = (-self.w[1] - self.w[0]) / self.w[2]\n",
    "        plt.plot((-1,1), (y_left, y_right))\n",
    "        plt.gca().set_aspect(1)\n",
    "        plt.xlim([-1, 1])\n",
    "        plt.ylim([-1, 1])\n",
    "        plt.title(\"Candidate function found with PLA\")\n",
    "        plt.show()"
   ]
  },
  {
   "cell_type": "code",
   "execution_count": 83,
   "metadata": {},
   "outputs": [
    {
     "name": "stdout",
     "output_type": "stream",
     "text": [
      "9.893\n"
     ]
    }
   ],
   "source": [
    "s = 0\n",
    "for i in range(1000):\n",
    "    d = Data(10)\n",
    "    lr = LinReg(dataset = d)\n",
    "    lr.fit()\n",
    "\n",
    "    pla = PLA(d, lr.w)\n",
    "    s += pla.fit()\n",
    "print(s/1000)"
   ]
  },
  {
   "cell_type": "markdown",
   "metadata": {},
   "source": [
    "## Problem 8\n",
    "Non linear transformation"
   ]
  },
  {
   "cell_type": "markdown",
   "metadata": {},
   "source": [
    "We need to generate new data with a new target function. So I will redefine the NonLinData class.|"
   ]
  },
  {
   "cell_type": "code",
   "execution_count": 148,
   "metadata": {},
   "outputs": [],
   "source": [
    "class NonLinData:\n",
    "    def evaluate(self, p):\n",
    "        return int(np.sign(p[0]**2 + p[1] **2 -0.6))\n",
    "    \n",
    "    def __init__(self, num_points):\n",
    "        self.X = []\n",
    "        self.Y = []\n",
    "        for i in range(num_points):\n",
    "            p = generate_point()\n",
    "            y = self.evaluate(p)\n",
    "            self.X.append(p)\n",
    "            self.Y.append(y)\n",
    "        # flip 10% of the point:\n",
    "        temp = np.array(self.Y)\n",
    "        self.Y = np.concatenate((temp[:900],temp[900:]* (-1)), axis = 0)\n",
    "    \n",
    "    def plot(self):\n",
    "        cs = [\"red\" if y > 0 else \"blue\" for y in self.Y]\n",
    "        plt.scatter([x[0] for x in self.X], [x[1] for x in self.X], c=cs)\n",
    "        plt.gca().set_aspect(1)\n",
    "        plt.xlim([-1, 1])\n",
    "        plt.ylim([-1, 1])\n",
    "        plt.title(\"Target function\")\n",
    "        plt.show()\n",
    "        "
   ]
  },
  {
   "cell_type": "code",
   "execution_count": 153,
   "metadata": {},
   "outputs": [],
   "source": [
    "e_in = []\n",
    "\n",
    "for i in range(1000):\n",
    "    d = NonLinData(1000)\n",
    "    lr = LinReg(d)\n",
    "    lr.fit()\n",
    "    wrong = 0\n",
    "    for j in range(1000):\n",
    "        guess = int(np.sign(lr.evaluate(d.X[j])))\n",
    "        if guess != d.Y[j]:\n",
    "            wrong += 1\n",
    "    e_in.append(wrong/1000)"
   ]
  },
  {
   "cell_type": "code",
   "execution_count": 154,
   "metadata": {},
   "outputs": [
    {
     "data": {
      "text/plain": [
       "0.50148"
      ]
     },
     "execution_count": 154,
     "metadata": {},
     "output_type": "execute_result"
    }
   ],
   "source": [
    "np.mean(e_in)\n",
    "#D"
   ]
  },
  {
   "cell_type": "markdown",
   "metadata": {},
   "source": [
    "## Problem 9"
   ]
  },
  {
   "cell_type": "code",
   "execution_count": 171,
   "metadata": {},
   "outputs": [
    {
     "data": {
      "text/plain": [
       "array([ 0.01516206, -0.02121708,  0.10465927,  1.58005766,  1.46354279,\n",
       "       -0.97321118])"
      ]
     },
     "execution_count": 171,
     "metadata": {},
     "output_type": "execute_result"
    }
   ],
   "source": [
    "# Make empty numpy for feature engineering\n",
    "\n",
    "d = NonLinData(1000)\n",
    "X = d.X\n",
    "new_X = np.zeros((1000, 5))\n",
    "for i in range(1000):\n",
    "    temp = X[i]\n",
    "    new_X[i] = [temp[0], temp[1], temp[0] * temp[1], temp[0]**2, temp[1]**2]\n",
    "\n",
    "d.X = new_X\n",
    "lr = LinReg(d)\n",
    "lr.fit()\n",
    "lr.w\n",
    "# A"
   ]
  },
  {
   "cell_type": "code",
   "execution_count": 172,
   "metadata": {},
   "outputs": [
    {
     "data": {
      "text/plain": [
       "0.48854400000000003"
      ]
     },
     "execution_count": 172,
     "metadata": {},
     "output_type": "execute_result"
    }
   ],
   "source": [
    "e_out = []\n",
    "for i in range(1000):\n",
    "    d = NonLinData(1000)\n",
    "    X = d.X\n",
    "    new_X = np.zeros((1000, 5))\n",
    "    for i in range(1000):\n",
    "        temp = X[i]\n",
    "        new_X[i] = [temp[0], temp[1], temp[0] * temp[1], temp[0]**2, temp[1]**2]\n",
    "\n",
    "    d.X = new_X\n",
    "    lr = LinReg(d)\n",
    "    lr.fit()\n",
    "    new_d = NonLinData(1000)\n",
    "    wrong = 0\n",
    "    for j in range(1000):\n",
    "        guess = int(np.sign(lr.evaluate(fresh_data.X[j])))\n",
    "        if guess != fresh_data.Y[j]:\n",
    "            wrong += 1\n",
    "    e_out.append(wrong/1000)\n",
    "# i probably should have used vectorization oops\n",
    "np.mean(e_out)\n",
    "\n",
    "# D"
   ]
  },
  {
   "cell_type": "code",
   "execution_count": null,
   "metadata": {},
   "outputs": [],
   "source": []
  }
 ],
 "metadata": {
  "kernelspec": {
   "display_name": "Python 3",
   "language": "python",
   "name": "python3"
  },
  "language_info": {
   "codemirror_mode": {
    "name": "ipython",
    "version": 3
   },
   "file_extension": ".py",
   "mimetype": "text/x-python",
   "name": "python",
   "nbconvert_exporter": "python",
   "pygments_lexer": "ipython3",
   "version": "3.6.10"
  }
 },
 "nbformat": 4,
 "nbformat_minor": 4
}
