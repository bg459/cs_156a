{
 "cells": [
  {
   "cell_type": "markdown",
   "metadata": {},
   "source": [
    "## Problem 1\n",
    "\n",
    "Answer: D.\n",
    "(i) is not learning because it is using a mathematical equation that is already established. There is no \"data\" thus there is no learning.\n",
    "\n",
    "(ii) This is supervised learning because labeled data is used to predict decision boundaries.\n",
    "\n",
    "(iii) This is reinforcement learning because weights of certain outcomes in order to adjust a strategy."
   ]
  },
  {
   "cell_type": "markdown",
   "metadata": {},
   "source": [
    "## Problem 2\n",
    "Answer: A.\n"
   ]
  },
  {
   "cell_type": "markdown",
   "metadata": {},
   "source": [
    "## Problem 3\n",
    "Answer: C. If you pick the bag with two different colors you instantly fail to meet the condition. If you pick the other bag, you instantly pass the condition. So it is just equal."
   ]
  },
  {
   "cell_type": "markdown",
   "metadata": {},
   "source": [
    "## Problem 4\n",
    "Just the complement so all balls must be non red. Thus $0.45^{10} = 3.405 \\times 10^{-4}$.\n"
   ]
  },
  {
   "cell_type": "markdown",
   "metadata": {},
   "source": [
    "## Problem 5\n",
    "Complement of the probability that one of the samples has no reds for all samples.\n",
    "This is just $1 - (1-3.405\\times 10^{-4}) ^{1000} = 0.289$."
   ]
  },
  {
   "cell_type": "markdown",
   "metadata": {},
   "source": [
    "## Problem 6\n",
    "Answer:E\n",
    "\n",
    "These are all equivalent scores. This is because $g$ provides a unique mapping from the three points to binary values $(a,b,c)$. There is exactly one target function mapping to all of $(a,b,c)$ hence 3 points; there are three mapping to exactly two.. and so on. Therefore the hypothesis itself does not matter much so long as it is unique.\n"
   ]
  },
  {
   "cell_type": "markdown",
   "metadata": {},
   "source": [
    "## Problem 7\n",
    "Code for PLA algorithm"
   ]
  },
  {
   "cell_type": "code",
   "execution_count": 1,
   "metadata": {},
   "outputs": [],
   "source": [
    "import random\n",
    "import numpy as np \n",
    "import matplotlib.pyplot as plt \n",
    "\n",
    "# randomly generates a point\n",
    "def generate_point():\n",
    "    x, y = random.uniform(-1, 1), random.uniform(-1, 1)\n",
    "    return (x, y)\n",
    "\n",
    "class Data:\n",
    "\n",
    "    def target_function(self, x):\n",
    "        if x[0] * self.target_m + self.target_b > x[1]:\n",
    "            return -1\n",
    "        else:\n",
    "            return 1    \n",
    "\n",
    "\n",
    "    def __init__(self, num_points):\n",
    "        p0 = generate_point()\n",
    "        p1 = generate_point()\n",
    "        self.target_m = (p1[1] - p0[1]) / (p1[0] - p0[0])\n",
    "        self.target_b = p0[1] - self.target_m * p0[0]\n",
    "\n",
    "        self.X = []\n",
    "        self.Y = []\n",
    "        for i in range(num_points):\n",
    "            pt = generate_point()\n",
    "            self.X.append(pt)\n",
    "            self.Y.append(self.target_function(pt))\n",
    "\n",
    "    def plot(self):\n",
    "        cs = [\"red\" if y > 0 else \"blue\" for y in self.Y]\n",
    "        plt.scatter([x[0] for x in self.X], [x[1] for x in self.X], c=cs)\n",
    "        plt.plot((-1, 1), \n",
    "                 (-self.target_m+self.target_b, self.target_m+self.target_b))\n",
    "        plt.gca().set_aspect(1)\n",
    "        plt.xlim([-1, 1])\n",
    "        plt.ylim([-1, 1])\n",
    "        plt.title(\"Target function\")\n",
    "        plt.show()\n",
    "\n",
    "class PLA:\n",
    "    def evaluate(self, p):\n",
    "        return int(np.sign(self.w[0]*1 + self.w[1]*p[0] + self.w[2]*p[1]))\n",
    "\n",
    "    def __init__(self, dataset):\n",
    "        self.w = [0,0,0]\n",
    "        self.dataset = dataset\n",
    "\n",
    "    def fit(self, plot_iters = False):\n",
    "        self.w = np.array([0,0,0])\n",
    "        num_iters = 0\n",
    "\n",
    "        while True:\n",
    "            missed = []\n",
    "            for (x,y) in zip(self.dataset.X, self.dataset.Y):\n",
    "                if self.evaluate(x) != y:\n",
    "                    missed.append((np.array([1, x[0], x[1]]), y))\n",
    "            if len(missed) > 0:\n",
    "                num_iters += 1\n",
    "                (x,y) = random.choice(missed)\n",
    "                self.w = self.w + y * x \n",
    "                \n",
    "            else: \n",
    "                if plot_iters:\n",
    "                    self.plot()\n",
    "                return num_iters\n",
    "\n",
    "    def plot(self):\n",
    "        cs = [\"red\" if y > 0 else \"blue\" for y in self.dataset.Y]\n",
    "        plt.scatter([x[0] for x in self.dataset.X], [x[1] for x in self.dataset.X], c=cs)\n",
    "        y_left = (self.w[1] - self.w[0]) / self.w[2]\n",
    "        y_right = (-self.w[1] - self.w[0]) / self.w[2]\n",
    "        plt.plot((-1,1), (y_left, y_right))\n",
    "        plt.gca().set_aspect(1)\n",
    "        plt.xlim([-1, 1])\n",
    "        plt.ylim([-1, 1])\n",
    "        plt.title(\"Candidate function found with PLA\")\n",
    "        plt.show()\n"
   ]
  },
  {
   "cell_type": "code",
   "execution_count": 4,
   "metadata": {},
   "outputs": [
    {
     "data": {
      "text/plain": [
       "9.812"
      ]
     },
     "execution_count": 4,
     "metadata": {},
     "output_type": "execute_result"
    }
   ],
   "source": [
    "# Problem 7\n",
    "s = 0\n",
    "for i in range(1000):\n",
    "    ds = Data(num_points=10)\n",
    "    pla = PLA(dataset = ds)\n",
    "    n = pla.fit(plot_iters = False)\n",
    "    s += n\n",
    "s/1000\n",
    "# Answer: B"
   ]
  },
  {
   "cell_type": "code",
   "execution_count": 9,
   "metadata": {},
   "outputs": [
    {
     "data": {
      "text/plain": [
       "0.10845729999999987"
      ]
     },
     "execution_count": 9,
     "metadata": {},
     "output_type": "execute_result"
    }
   ],
   "source": [
    "# Problem 8\n",
    "num_reptitions = 1000\n",
    "sum_ratio = 0\n",
    "for i in range(num_reptitions):\n",
    "    ds = Data(num_points=10)\n",
    "    pla = PLA(dataset = ds)\n",
    "    _ = pla.fit(plot_iters = False)\n",
    "    \n",
    "    \n",
    "    num_generations = 10000\n",
    "    wrong = 0\n",
    "    for i in range(num_generations):\n",
    "        test = generate_point()\n",
    "        # Prediction using f\n",
    "        fx = ds.target_function(test)\n",
    "        # Prediction using g\n",
    "        gx = pla.evaluate(test)\n",
    "        if fx != gx:\n",
    "            wrong += 1\n",
    "    sum_ratio += wrong/num_generations\n",
    "sum_ratio / 1000\n",
    "## Answer: B"
   ]
  },
  {
   "cell_type": "code",
   "execution_count": 10,
   "metadata": {},
   "outputs": [
    {
     "data": {
      "text/plain": [
       "110.36"
      ]
     },
     "execution_count": 10,
     "metadata": {},
     "output_type": "execute_result"
    }
   ],
   "source": [
    "# Problem 9\n",
    "s = 0\n",
    "for i in range(1000):\n",
    "    ds = Data(num_points=100)\n",
    "    pla = PLA(dataset = ds)\n",
    "    n = pla.fit(plot_iters = False)\n",
    "    s += n\n",
    "s/1000\n",
    "# Answer: B"
   ]
  },
  {
   "cell_type": "code",
   "execution_count": null,
   "metadata": {},
   "outputs": [],
   "source": [
    "# Problem 10 ( I probably should have made this a function oops)\n",
    "num_reptitions = 1000\n",
    "sum_ratio = 0\n",
    "for i in range(num_reptitions):\n",
    "    ds = Data(num_points=100)\n",
    "    pla = PLA(dataset = ds)\n",
    "    _ = pla.fit(plot_iters = False)\n",
    "    \n",
    "    \n",
    "    num_generations = 10000\n",
    "    wrong = 0\n",
    "    for i in range(num_generations):\n",
    "        test = generate_point()\n",
    "        # Prediction using f\n",
    "        fx = ds.target_function(test)\n",
    "        # Prediction using g\n",
    "        gx = pla.evaluate(test)\n",
    "        if fx != gx:\n",
    "            wrong += 1\n",
    "    sum_ratio += wrong/num_generations\n",
    "sum_ratio / 1000\n",
    "## Answer: B"
   ]
  },
  {
   "cell_type": "code",
   "execution_count": null,
   "metadata": {},
   "outputs": [],
   "source": []
  }
 ],
 "metadata": {
  "kernelspec": {
   "display_name": "Python 3",
   "language": "python",
   "name": "python3"
  },
  "language_info": {
   "codemirror_mode": {
    "name": "ipython",
    "version": 3
   },
   "file_extension": ".py",
   "mimetype": "text/x-python",
   "name": "python",
   "nbconvert_exporter": "python",
   "pygments_lexer": "ipython3",
   "version": "3.6.10"
  }
 },
 "nbformat": 4,
 "nbformat_minor": 4
}
