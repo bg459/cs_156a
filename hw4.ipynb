{
 "cells": [
  {
   "cell_type": "markdown",
   "metadata": {},
   "source": [
    "## Problem 1"
   ]
  },
  {
   "cell_type": "markdown",
   "metadata": {},
   "source": [
    "Use the VC inequality to get that N is approximately 453000, choose C"
   ]
  },
  {
   "cell_type": "markdown",
   "metadata": {},
   "source": [
    "## Problem 2"
   ]
  },
  {
   "cell_type": "code",
   "execution_count": 12,
   "metadata": {},
   "outputs": [],
   "source": [
    "## Plotting exercise!\n",
    "# Because some bounds are implicit in epsilon, I will use simulations instead of plotting the entire continuous function\n",
    "import numpy as np\n",
    "DELTA = 0.05\n",
    "D_VC = 50\n",
    "\n",
    "def mH(N):\n",
    "    return N ** D_VC\n",
    "def VC(N):\n",
    "    return np.sqrt(8/N * np.log(4 * mH(2 * N)/DELTA))\n",
    "\n",
    "def Rad(N):\n",
    "    return np.sqrt(2 * np.log(2 * N * mH(2*N)/N)) + np.sqrt(2 * np.log(1/DELTA)/N) + 1/N\n",
    "\n",
    "def parrondo(N):\n",
    "    return 1/N + 0.5*np.sqrt(4/N**2 + 4/N * np.log(6*mH(2*N)/DELTA))\n",
    "\n",
    "def devroye(N):\n",
    "    return (2/N + np.sqrt(4/N**2 + 4*(1-2/N)*(1/(2*N))*(np.log(4) + 2*D_VC*np.log(N) - np.log(DELTA))))/(2*(1-2/N))"
   ]
  },
  {
   "cell_type": "code",
   "execution_count": 24,
   "metadata": {},
   "outputs": [],
   "source": [
    "x = np.arange(9900, 10000, dtype = np.float64)\n",
    "\n",
    "vc = np.array([VC(i) for i in x])\n",
    "rad = np.array([Rad(i) for i in x])\n",
    "par = np.array([parrondo(i) for i in x])\n",
    "dev = np.array([devroye(i) for i in x])"
   ]
  },
  {
   "cell_type": "code",
   "execution_count": 30,
   "metadata": {},
   "outputs": [
    {
     "data": {
      "image/png": "[encoded data removed]",
      "text/plain": [
       "<Figure size 432x288 with 1 Axes>"
      ]
     },
     "metadata": {
      "needs_background": "light"
     },
     "output_type": "display_data"
    }
   ],
   "source": [
    "import matplotlib.pyplot as plt\n",
    "plt.plot(x, vc, 'red')\n",
    "plt.plot(x, rad, 'blue')\n",
    "plt.plot(x, par, 'orange')\n",
    "plt.plot(x, dev, 'yellow')\n",
    "plt.ylim(0, 5)\n",
    "plt.show()\n",
    "# So D is the best answer."
   ]
  },
  {
   "cell_type": "markdown",
   "metadata": {},
   "source": [
    "## Problem 3\n",
    "\n"
   ]
  },
  {
   "cell_type": "code",
   "execution_count": 35,
   "metadata": {},
   "outputs": [
    {
     "data": {
      "image/png": "[encoded data removed]",
      "text/plain": [
       "<Figure size 432x288 with 1 Axes>"
      ]
     },
     "metadata": {
      "needs_background": "light"
     },
     "output_type": "display_data"
    }
   ],
   "source": [
    "x = np.arange(3, 10, dtype = np.float64)\n",
    "vc = np.array([VC(i) for i in x])\n",
    "rad = np.array([Rad(i) for i in x])\n",
    "par = np.array([parrondo(i) for i in x])\n",
    "dev = np.array([devroye(i) for i in x])\n",
    "plt.plot(x, vc, 'red')\n",
    "plt.plot(x, rad, 'blue')\n",
    "plt.plot(x, par, 'orange')\n",
    "plt.plot(x, dev, 'yellow')\n",
    "plt.show()\n",
    "# C is the smallest"
   ]
  },
  {
   "cell_type": "markdown",
   "metadata": {},
   "source": [
    "## Problem 4"
   ]
  },
  {
   "cell_type": "code",
   "execution_count": 46,
   "metadata": {},
   "outputs": [
    {
     "data": {
      "text/plain": [
       "1.4163598115140847"
      ]
     },
     "execution_count": 46,
     "metadata": {},
     "output_type": "execute_result"
    }
   ],
   "source": [
    "# I'm pretty sure we did something similar in lecture but let's do it anyway for practice\n",
    "import random\n",
    "from scipy.optimize import curve_fit\n",
    "\n",
    "def target(x):\n",
    "    return np.sin(np.pi * x)\n",
    "\n",
    "def func(x, a):\n",
    "    return a * x\n",
    "slopes = 0\n",
    "n = 1000\n",
    "for i in range(n):\n",
    "    x1, x2 = random.uniform(-1, 1), random.uniform(-1, 1)\n",
    "    y1, y2 = target(x1), target(x2)\n",
    "    popt, _ = curve_fit(func, [x1, x2], [y1, y2])\n",
    "    slopes += popt[0]\n",
    "\n",
    "slopes/n\n",
    "## E"
   ]
  },
  {
   "cell_type": "markdown",
   "metadata": {},
   "source": [
    "## Problem 5"
   ]
  },
  {
   "cell_type": "code",
   "execution_count": 68,
   "metadata": {},
   "outputs": [
    {
     "data": {
      "text/plain": [
       "0.2670091024094489"
      ]
     },
     "execution_count": 68,
     "metadata": {},
     "output_type": "execute_result"
    }
   ],
   "source": [
    "## To calculate bias I need to find the area between the line ax and sin (pi x)\n",
    "from scipy import integrate\n",
    "n = 1000\n",
    "ahat = 1.41636\n",
    "biases = 0\n",
    "for i in range(n):\n",
    "    x1, x2 = random.uniform(-1, 1), random.uniform(-1, 1)\n",
    "    y1, y2 = target(x1), target(x2)\n",
    "    popt, _ = curve_fit(func, [x1, x2], [y1, y2])\n",
    "    a = popt[0]\n",
    "    diff = lambda x: (ahat* x - np.sin(np.pi * x))**2\n",
    "    bias = integrate.quad(diff, -1, 1)[0]/2\n",
    "    biases += bias\n",
    "biases /n\n",
    "## C"
   ]
  },
  {
   "cell_type": "markdown",
   "metadata": {},
   "source": [
    "## Problem 6"
   ]
  },
  {
   "cell_type": "code",
   "execution_count": 69,
   "metadata": {},
   "outputs": [
    {
     "data": {
      "text/plain": [
       "0.5074445091023324"
      ]
     },
     "execution_count": 69,
     "metadata": {},
     "output_type": "execute_result"
    }
   ],
   "source": [
    "n = 1000\n",
    "biases = 0\n",
    "# I will compute total error, then compute variance from that.\n",
    "for i in range(n):\n",
    "    x1, x2 = random.uniform(-1, 1), random.uniform(-1, 1)\n",
    "    y1, y2 = target(x1), target(x2)\n",
    "    popt, _ = curve_fit(func, [x1, x2], [y1, y2])\n",
    "    diff = lambda x: (popt[0]* x - np.sin(np.pi * x))**2/2\n",
    "    bias = integrate.quad(diff, -1, 1)[0]\n",
    "    biases += bias\n",
    "biases /n\n",
    "## So variance is total error - bias, so #A"
   ]
  },
  {
   "cell_type": "markdown",
   "metadata": {},
   "source": [
    "## Problem 7"
   ]
  },
  {
   "cell_type": "code",
   "execution_count": 71,
   "metadata": {},
   "outputs": [
    {
     "data": {
      "text/plain": [
       "0.7545466470993307"
      ]
     },
     "execution_count": 71,
     "metadata": {},
     "output_type": "execute_result"
    }
   ],
   "source": [
    "# Constant case\n",
    "errors = 0\n",
    "for i in range(n):\n",
    "    x1, x2 = random.uniform(-1, 1), random.uniform(-1, 1)\n",
    "    y1, y2 = target(x1), target(x2)\n",
    "    b = 0.5 * (y1 + y2)\n",
    "    \n",
    "    diff = lambda x: (b - np.sin(np.pi * x))**2/2\n",
    "    error = integrate.quad(diff, -1, 1)[0]\n",
    "    errors += error\n",
    "errors/n"
   ]
  },
  {
   "cell_type": "code",
   "execution_count": 72,
   "metadata": {},
   "outputs": [
    {
     "name": "stderr",
     "output_type": "stream",
     "text": [
      "/Users/bguo/opt/anaconda3/lib/python3.6/site-packages/scipy/optimize/minpack.py:829: OptimizeWarning: Covariance of the parameters could not be estimated\n",
      "  category=OptimizeWarning)\n"
     ]
    },
    {
     "data": {
      "text/plain": [
       "1.988204961797243"
      ]
     },
     "execution_count": 72,
     "metadata": {},
     "output_type": "execute_result"
    }
   ],
   "source": [
    "## Y = ax case had error ~ 0.5\n",
    "# Now we do the y = ax + b case\n",
    "errors = 0\n",
    "def func1 (x, a, b):\n",
    "    return a * x + b\n",
    "for i in range(n):\n",
    "    x1, x2 = random.uniform(-1, 1), random.uniform(-1, 1)\n",
    "    y1, y2 = target(x1), target(x2)\n",
    "    popt, _ = curve_fit(func1, [x1, x2], [y1, y2])\n",
    "    \n",
    "    diff = lambda x: (popt[0] * x + popt[1] - np.sin(np.pi * x))**2/2\n",
    "    error = integrate.quad(diff, -1, 1)[0]\n",
    "    errors += error\n",
    "errors/n\n",
    "# Wow this is terrible! "
   ]
  },
  {
   "cell_type": "code",
   "execution_count": 73,
   "metadata": {},
   "outputs": [
    {
     "data": {
      "text/plain": [
       "42.66443857920539"
      ]
     },
     "execution_count": 73,
     "metadata": {},
     "output_type": "execute_result"
    }
   ],
   "source": [
    "def func2 (x, a):\n",
    "    return a * x**2\n",
    "\n",
    "for i in range(n):\n",
    "    x1, x2 = random.uniform(-1, 1), random.uniform(-1, 1)\n",
    "    y1, y2 = target(x1), target(x2)\n",
    "    popt, _ = curve_fit(func2, [x1, x2], [y1, y2])\n",
    "    \n",
    "    diff = lambda x: (popt[0] * x**2 - np.sin(np.pi * x))**2/2\n",
    "    error = integrate.quad(diff, -1, 1)[0]\n",
    "    errors += error\n",
    "errors/n\n",
    "# Choose B"
   ]
  },
  {
   "cell_type": "markdown",
   "metadata": {},
   "source": [
    "## Problem 8"
   ]
  },
  {
   "cell_type": "markdown",
   "metadata": {},
   "source": [
    "Basically the growth function is 2^N until q = N, then it is not exactly that. So this happens when N = q, which will mess up the growth function for N+1. So the break point is q. C"
   ]
  },
  {
   "cell_type": "markdown",
   "metadata": {},
   "source": [
    "## Problem 9"
   ]
  },
  {
   "cell_type": "markdown",
   "metadata": {},
   "source": [
    "If you look at the upper bound, the VC dimension can only be as good as the worst VC dimension out of all of them. THis is because if you can shatter some somesubset of the graph then you can shatter the whole thing. Therefore the inequality (b) is tight."
   ]
  },
  {
   "cell_type": "markdown",
   "metadata": {},
   "source": [
    "## Problem 10"
   ]
  },
  {
   "cell_type": "code",
   "execution_count": null,
   "metadata": {},
   "outputs": [],
   "source": []
  }
 ],
 "metadata": {
  "kernelspec": {
   "display_name": "Python 3",
   "language": "python",
   "name": "python3"
  },
  "language_info": {
   "codemirror_mode": {
    "name": "ipython",
    "version": 3
   },
   "file_extension": ".py",
   "mimetype": "text/x-python",
   "name": "python",
   "nbconvert_exporter": "python",
   "pygments_lexer": "ipython3",
   "version": "3.6.10"
  }
 },
 "nbformat": 4,
 "nbformat_minor": 4
}
