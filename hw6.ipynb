{
 "cells": [
  {
   "cell_type": "markdown",
   "metadata": {},
   "source": [
    "## Problem 1 "
   ]
  },
  {
   "cell_type": "markdown",
   "metadata": {},
   "source": [
    "Deterministic noise is measured by how far off the best hypothesis is to the target function.\n",
    "It captures the inherent inability for a hypothesis set to catch the underlying function (i.e. 2nd order to capture 10th order).\n",
    "\n",
    "Therefore we want the bigger set, because in general the best hypothesis might lie outside of $H'$. Choose B"
   ]
  },
  {
   "cell_type": "markdown",
   "metadata": {},
   "source": [
    "## Problem 2"
   ]
  },
  {
   "cell_type": "code",
   "execution_count": 89,
   "metadata": {},
   "outputs": [],
   "source": [
    "# Read in the data\n",
    "import pandas as pd\n",
    "import numpy as np\n",
    "\n",
    "train = pd.read_table('http://work.caltech.edu/data/in.dta', delim_whitespace = True, header = None)\n",
    "test = pd.read_table('http://work.caltech.edu/data/out.dta', delim_whitespace = True, header = None)"
   ]
  },
  {
   "cell_type": "code",
   "execution_count": 90,
   "metadata": {},
   "outputs": [],
   "source": [
    "X = np.array(train)\n",
    "Y = list(X[:, -1])\n",
    "X = np.delete(X, -1, axis = 1)\n",
    "\n",
    "new_X = np.zeros((X.shape[0], 5))\n",
    "\n",
    "new_X[:, 0] = X[:, 0] **2\n",
    "new_X[:, 1] = X[:, 1] **2\n",
    "new_X[:, 2] = X[:, 0] * X[:, 1]\n",
    "new_X[:, 3] = abs(X[:, 0] - X[:, 1])\n",
    "new_X[:, 4] = abs(X[:, 0] + X[:, 1])\n",
    "X = np.concatenate((X, new_X), axis = 1)\n",
    "x_0 = np.ones((X.shape[0], 1))\n",
    "X = np.concatenate((X, x_0), axis = 1)"
   ]
  },
  {
   "cell_type": "code",
   "execution_count": 91,
   "metadata": {},
   "outputs": [
    {
     "data": {
      "text/plain": [
       "array([-0.14505927,  0.10154121, -2.03296844, -1.82804373,  2.48152945,\n",
       "        4.15893861,  0.31651714, -1.64706706])"
      ]
     },
     "execution_count": 91,
     "metadata": {},
     "output_type": "execute_result"
    }
   ],
   "source": [
    "# Fit the data\n",
    "lr = LinReg(X, Y)\n",
    "lr.fit()\n",
    "lr.w"
   ]
  },
  {
   "cell_type": "code",
   "execution_count": 92,
   "metadata": {},
   "outputs": [
    {
     "data": {
      "text/plain": [
       "0.02857142857142858"
      ]
     },
     "execution_count": 92,
     "metadata": {},
     "output_type": "execute_result"
    }
   ],
   "source": [
    "# Compute in-sample error\n",
    "correct = 0\n",
    "for i in range(X.shape[0]):\n",
    "    guess = np.sign(np.dot(lr.w, X[i]))\n",
    "    \n",
    "    if guess == Y[i]:\n",
    "        correct += 1\n",
    "\n",
    "1 - correct / X.shape[0]"
   ]
  },
  {
   "cell_type": "code",
   "execution_count": 93,
   "metadata": {},
   "outputs": [
    {
     "data": {
      "text/plain": [
       "0.08399999999999996"
      ]
     },
     "execution_count": 93,
     "metadata": {},
     "output_type": "execute_result"
    }
   ],
   "source": [
    "## Out of sample testing\n",
    "\n",
    "# First need to generate the X's.\n",
    "\n",
    "X = np.array(test)\n",
    "Y = list(X[:, -1])\n",
    "X = np.delete(X, -1, axis = 1)\n",
    "\n",
    "new_X = np.zeros((X.shape[0], 5))\n",
    "\n",
    "new_X[:, 0] = X[:, 0] **2\n",
    "new_X[:, 1] = X[:, 1] **2\n",
    "new_X[:, 2] = X[:, 0] * X[:, 1]\n",
    "new_X[:, 3] = abs(X[:, 0] - X[:, 1])\n",
    "new_X[:, 4] = abs(X[:, 0] + X[:, 1])\n",
    "X = np.concatenate((X, new_X), axis = 1)\n",
    "x_0 = np.ones((X.shape[0], 1))\n",
    "X = np.concatenate((X, x_0), axis = 1)\n",
    "\n",
    "\n",
    "# now test\n",
    "\n",
    "correct = 0\n",
    "for i in range(X.shape[0]):\n",
    "    guess = np.sign(np.dot(lr.w, X[i]))\n",
    "    \n",
    "    if guess == Y[i]:\n",
    "        correct += 1\n",
    "\n",
    "1 - correct / X.shape[0]\n",
    "# A"
   ]
  },
  {
   "cell_type": "markdown",
   "metadata": {},
   "source": [
    "## Problem 3\n",
    "Adding a regularization term to the LinReg function"
   ]
  },
  {
   "cell_type": "code",
   "execution_count": 95,
   "metadata": {},
   "outputs": [],
   "source": [
    "# Code for Creating the Data\n",
    "import random\n",
    "import numpy as np \n",
    "import matplotlib.pyplot as plt \n",
    "\n",
    "# randomly generates a point\n",
    "def generate_point():\n",
    "    x, y = random.uniform(-1, 1), random.uniform(-1, 1)\n",
    "    return (x, y)\n",
    "        \n",
    "class LinReg():\n",
    "    def evaluate(self, p):\n",
    "        return self.w[0] * 1 + self.w[1] * p[0] + self.w[2] * p[1]\n",
    "\n",
    "    def __init__(self, X, Y):\n",
    "        self.w = [0, 0, 0]\n",
    "        self.X = X\n",
    "        self.Y = Y\n",
    "        \n",
    "    def fit(self):\n",
    "        X = np.array(self.X)\n",
    "        \n",
    "        y = self.Y\n",
    "        p_inverse = np.dot(np.linalg.inv(np.dot(np.transpose(X), X)) , np.transpose(X))\n",
    "        self.w = np.dot(p_inverse, y)\n",
    "        \n",
    "    def fit_reg(self, lam):\n",
    "        X = np.array(self.X)\n",
    "        \n",
    "        y = self.Y\n",
    "        p_inverse = np.dot(np.linalg.inv(np.dot(np.transpose(X), X) + lam * np.identity(X.shape[1])) , np.transpose(X))\n",
    "        self.w = np.dot(p_inverse, y)\n",
    "\n",
    "        \n",
    "    def plot(self):\n",
    "        cs = [\"red\" if y > 0 else \"blue\" for y in self.dataset.Y]\n",
    "        plt.scatter([x[0] for x in self.dataset.X], [x[1] for x in self.dataset.X], c=cs)\n",
    "        y_left = (self.w[1] - self.w[0]) / self.w[2]\n",
    "        y_right = (-self.w[1] - self.w[0]) / self.w[2]\n",
    "        plt.plot((-1,1), (y_left, y_right))\n",
    "        plt.gca().set_aspect(1)\n",
    "        plt.xlim([-1, 1])\n",
    "        plt.ylim([-1, 1])\n",
    "        plt.title(\"Candidate function found with PLA\")\n",
    "        plt.show()\n",
    "        "
   ]
  },
  {
   "cell_type": "code",
   "execution_count": 102,
   "metadata": {},
   "outputs": [],
   "source": [
    "def run_lin_reg(train, test, lam):\n",
    "    X = np.array(train)\n",
    "    Y = list(X[:, -1])\n",
    "    X = np.delete(X, -1, axis = 1)\n",
    "\n",
    "    new_X = np.zeros((X.shape[0], 5))\n",
    "\n",
    "    new_X[:, 0] = X[:, 0] **2\n",
    "    new_X[:, 1] = X[:, 1] **2\n",
    "    new_X[:, 2] = X[:, 0] * X[:, 1]\n",
    "    new_X[:, 3] = abs(X[:, 0] - X[:, 1])\n",
    "    new_X[:, 4] = abs(X[:, 0] + X[:, 1])\n",
    "    X = np.concatenate((X, new_X), axis = 1)\n",
    "    x_0 = np.ones((X.shape[0], 1))\n",
    "    X = np.concatenate((X, x_0), axis = 1)\n",
    "\n",
    "    lr = LinReg(X, Y)\n",
    "    lr.fit_reg(lam)\n",
    "    lr.w\n",
    "\n",
    "    correct = 0\n",
    "    for i in range(X.shape[0]):\n",
    "        guess = np.sign(np.dot(lr.w, X[i]))\n",
    "\n",
    "        if guess == Y[i]:\n",
    "            correct += 1\n",
    "\n",
    "    E_in = 1 - correct / X.shape[0]\n",
    "\n",
    "    X = np.array(test)\n",
    "    Y = list(X[:, -1])\n",
    "    X = np.delete(X, -1, axis = 1)\n",
    "\n",
    "    new_X = np.zeros((X.shape[0], 5))\n",
    "\n",
    "    new_X[:, 0] = X[:, 0] **2\n",
    "    new_X[:, 1] = X[:, 1] **2\n",
    "    new_X[:, 2] = X[:, 0] * X[:, 1]\n",
    "    new_X[:, 3] = abs(X[:, 0] - X[:, 1])\n",
    "    new_X[:, 4] = abs(X[:, 0] + X[:, 1])\n",
    "    X = np.concatenate((X, new_X), axis = 1)\n",
    "    x_0 = np.ones((X.shape[0], 1))\n",
    "    X = np.concatenate((X, x_0), axis = 1)\n",
    "\n",
    "\n",
    "    # now test\n",
    "\n",
    "    correct = 0\n",
    "    for i in range(X.shape[0]):\n",
    "        guess = np.sign(np.dot(lr.w, X[i]))\n",
    "\n",
    "        if guess == Y[i]:\n",
    "            correct += 1\n",
    "\n",
    "    E_out = 1 - correct / X.shape[0]\n",
    "    return E_in, E_out"
   ]
  },
  {
   "cell_type": "code",
   "execution_count": 104,
   "metadata": {},
   "outputs": [
    {
     "data": {
      "text/plain": [
       "(0.02857142857142858, 0.07999999999999996)"
      ]
     },
     "execution_count": 104,
     "metadata": {},
     "output_type": "execute_result"
    }
   ],
   "source": [
    "run_lin_reg(train, test, 0.001)\n",
    "# D"
   ]
  },
  {
   "cell_type": "code",
   "execution_count": 105,
   "metadata": {},
   "outputs": [
    {
     "data": {
      "text/plain": [
       "(0.37142857142857144, 0.43600000000000005)"
      ]
     },
     "execution_count": 105,
     "metadata": {},
     "output_type": "execute_result"
    }
   ],
   "source": [
    "## Problem 4\n",
    "run_lin_reg(train, test, 1000)\n",
    "# E"
   ]
  },
  {
   "cell_type": "code",
   "execution_count": 108,
   "metadata": {},
   "outputs": [
    {
     "data": {
      "text/plain": [
       "-1"
      ]
     },
     "execution_count": 108,
     "metadata": {},
     "output_type": "execute_result"
    }
   ],
   "source": [
    "## Problem 5\n",
    "choices = [2, 1, 0, -1, -2]\n",
    "min_error = 1\n",
    "k = 5\n",
    "for choice in choices:\n",
    "    _, x = run_lin_reg(train, test, 10 ** choice)\n",
    "    if x < min_error:\n",
    "        min_error = x\n",
    "        k = choice\n",
    "\n",
    "k\n",
    "## D"
   ]
  },
  {
   "cell_type": "code",
   "execution_count": 109,
   "metadata": {},
   "outputs": [
    {
     "name": "stdout",
     "output_type": "stream",
     "text": [
      "k = -5: 0.08399999999999996\n",
      "k = -4: 0.08399999999999996\n",
      "k = -3: 0.07999999999999996\n",
      "k = -2: 0.08399999999999996\n",
      "k = -1: 0.05600000000000005\n",
      "k = 0: 0.09199999999999997\n",
      "k = 1: 0.124\n",
      "k = 2: 0.22799999999999998\n",
      "k = 3: 0.43600000000000005\n",
      "k = 4: 0.45199999999999996\n"
     ]
    }
   ],
   "source": [
    "## Problem 6\n",
    "\n",
    "# Guess that it is within (-5, 5)\n",
    "\n",
    "for k in range(-5, 5):\n",
    "    _, x = run_lin_reg(train, test, 10 ** k)\n",
    "    print(\"k = {}: {}\".format(k, x))\n",
    "    \n",
    "## B"
   ]
  },
  {
   "cell_type": "markdown",
   "metadata": {},
   "source": [
    "## Problem 7"
   ]
  },
  {
   "cell_type": "markdown",
   "metadata": {},
   "source": [
    "This is a very weird problem. Basically this special Hypothesis set wipes out polynomials above some order, so you get a simpler hypothesis space.\n",
    "\n",
    "In C, it wipes out all polynomials degree 3 and higher, and takes that with the intersection of one that wipes out polynomial degree 4 and higher, so \n",
    "that is indeed just H2."
   ]
  },
  {
   "cell_type": "markdown",
   "metadata": {},
   "source": [
    "## Problem 8"
   ]
  },
  {
   "cell_type": "markdown",
   "metadata": {},
   "source": [
    "Just do 5 * 3 * 3 = 45, choose D."
   ]
  },
  {
   "cell_type": "markdown",
   "metadata": {},
   "source": [
    "## Problem 9"
   ]
  },
  {
   "cell_type": "markdown",
   "metadata": {},
   "source": [
    "10 + 36 + (the output unit) = 47, B"
   ]
  },
  {
   "cell_type": "markdown",
   "metadata": {},
   "source": [
    "## Problem 10"
   ]
  },
  {
   "cell_type": "code",
   "execution_count": 115,
   "metadata": {},
   "outputs": [
    {
     "name": "stdout",
     "output_type": "stream",
     "text": [
      "10, 1, 35, 1: 69\n",
      "10, 2, 34, 1: 110\n",
      "10, 3, 33, 1: 149\n",
      "10, 4, 32, 1: 186\n",
      "10, 5, 31, 1: 221\n",
      "10, 6, 30, 1: 254\n",
      "10, 7, 29, 1: 285\n",
      "10, 8, 28, 1: 314\n",
      "10, 9, 27, 1: 341\n",
      "10, 10, 26, 1: 366\n",
      "10, 11, 25, 1: 389\n",
      "10, 12, 24, 1: 410\n",
      "10, 13, 23, 1: 429\n",
      "10, 14, 22, 1: 446\n",
      "10, 15, 21, 1: 461\n",
      "10, 16, 20, 1: 474\n",
      "10, 17, 19, 1: 485\n",
      "10, 18, 18, 1: 494\n",
      "10, 19, 17, 1: 501\n",
      "10, 20, 16, 1: 506\n",
      "10, 21, 15, 1: 509\n",
      "10, 22, 14, 1: 510\n",
      "10, 23, 13, 1: 509\n",
      "10, 24, 12, 1: 506\n",
      "10, 25, 11, 1: 501\n",
      "10, 26, 10, 1: 494\n",
      "10, 27, 9, 1: 485\n",
      "10, 28, 8, 1: 474\n",
      "10, 29, 7, 1: 461\n",
      "10, 30, 6, 1: 446\n",
      "10, 31, 5, 1: 429\n",
      "10, 32, 4, 1: 410\n",
      "10, 33, 3, 1: 389\n",
      "10, 34, 2, 1: 366\n",
      "10, 35, 1, 1: 341\n"
     ]
    }
   ],
   "source": [
    "## have to write some code I guess\n",
    "inputs = 10\n",
    "layer_1 = 1\n",
    "\n",
    "## Assume two hidden layers ( think three would be worse)\n",
    "\n",
    "while layer_1 <= 35:\n",
    "    layer_2 = 36 - layer_1\n",
    "    print(\"10, {}, {}, 1: {}\".format(layer_1, layer_2, 10 * (layer_1-1) + (layer_2-1) * layer_1 + (layer_2) * 1))\n",
    "    layer_1 += 1\n",
    "    \n",
    "## Choose E"
   ]
  },
  {
   "cell_type": "code",
   "execution_count": null,
   "metadata": {},
   "outputs": [],
   "source": []
  }
 ],
 "metadata": {
  "kernelspec": {
   "display_name": "Python 3",
   "language": "python",
   "name": "python3"
  },
  "language_info": {
   "codemirror_mode": {
    "name": "ipython",
    "version": 3
   },
   "file_extension": ".py",
   "mimetype": "text/x-python",
   "name": "python",
   "nbconvert_exporter": "python",
   "pygments_lexer": "ipython3",
   "version": "3.6.10"
  }
 },
 "nbformat": 4,
 "nbformat_minor": 4
}
