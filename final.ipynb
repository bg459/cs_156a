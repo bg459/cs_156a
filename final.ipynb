{
 "cells": [
  {
   "cell_type": "markdown",
   "metadata": {},
   "source": [
    "## Problem 1"
   ]
  },
  {
   "cell_type": "markdown",
   "metadata": {},
   "source": [
    "We originally have x1, x2 and we transform to $x_1^a$ and $x_2^a$, where $1 \\leq a, b\\leq 10$. Then we have the cross terms $x_1 x_2$, so 30. E. "
   ]
  },
  {
   "cell_type": "markdown",
   "metadata": {},
   "source": [
    "## Problem 2"
   ]
  },
  {
   "cell_type": "markdown",
   "metadata": {},
   "source": [
    "Average of logistic regressions could be linear or constant, given some negative and positive weights. So D."
   ]
  },
  {
   "cell_type": "markdown",
   "metadata": {},
   "source": [
    "## Problem 3"
   ]
  },
  {
   "cell_type": "markdown",
   "metadata": {},
   "source": [
    "If you only have one hypothesis, you cannot determine whether overfitting is happening in this way, rather you might want to look at Ein and Eout over training or something. D."
   ]
  },
  {
   "cell_type": "markdown",
   "metadata": {},
   "source": [
    "## Problem 4"
   ]
  },
  {
   "cell_type": "markdown",
   "metadata": {},
   "source": [
    "D. ABC are obviously wrong, and If the targets are very noisy (high variance) then stochastic noise is bigger."
   ]
  },
  {
   "cell_type": "markdown",
   "metadata": {},
   "source": [
    "## Problem 5"
   ]
  },
  {
   "cell_type": "markdown",
   "metadata": {},
   "source": [
    "This is just A. If the optimal solution lies within the solution area, then we just choose it. The bounds don't matter"
   ]
  },
  {
   "cell_type": "markdown",
   "metadata": {},
   "source": [
    "## Problem 6"
   ]
  },
  {
   "cell_type": "markdown",
   "metadata": {},
   "source": [
    "Soft-order is like weight decay. You make the error \"larger\" with the lambda term, such as with L2. That means the weights decay more because you \"augmented\" the error function"
   ]
  },
  {
   "cell_type": "markdown",
   "metadata": {},
   "source": [
    "## Problem 7"
   ]
  },
  {
   "cell_type": "code",
   "execution_count": 1,
   "metadata": {},
   "outputs": [],
   "source": [
    "## Loading in some \n",
    "\n",
    "import pandas as pd\n",
    "import numpy as np\n",
    "\n",
    "train = pd.read_table(\"http://www.amlbook.com/data/zip/features.train\", delim_whitespace = True, header = None)\n",
    "test = pd.read_table(\"http://www.amlbook.com/data/zip/features.test\", delim_whitespace = True, header = None)\n",
    "col_names = ['digit', 'intensity', 'symmetry']\n",
    "train.columns = col_names\n",
    "test.columns = col_names"
   ]
  },
  {
   "cell_type": "code",
   "execution_count": 11,
   "metadata": {},
   "outputs": [
    {
     "name": "stdout",
     "output_type": "stream",
     "text": [
      "E_in for 5: 0.07625840076807022\n",
      "E_in for 6: 0.09107118365107666\n",
      "E_in for 7: 0.08846523110684405\n",
      "E_in for 8: 0.07433822520916199\n",
      "E_in for 9: 0.08832807570977919\n"
     ]
    }
   ],
   "source": [
    "## This L2 regularized linear regression is Ridge Regression\n",
    "from sklearn import linear_model\n",
    "\n",
    "def E_in(guess, Y):\n",
    "    return np.mean(guess != Y)\n",
    "# Train a one v all classifier for some number n\n",
    "def one_v_all(train, n, lam):\n",
    "    Y = train['digit']\n",
    "    X = train.drop(['digit'], axis = 1)\n",
    "    Y = np.where(Y == n, 1, -1)\n",
    "    \n",
    "    reg = linear_model.Ridge(alpha = lam)\n",
    "    reg.fit(X, Y)\n",
    "    guess = np.sign(reg.predict(X))\n",
    "    error = E_in(guess, Y)\n",
    "    return error\n",
    "\n",
    "for i in range(5, 10):\n",
    "    print(\"E_in for {}: {}\".format(i, one_v_all(train, i, 1)))\n",
    "    \n",
    "## D"
   ]
  },
  {
   "cell_type": "markdown",
   "metadata": {},
   "source": [
    "## Problem 8"
   ]
  },
  {
   "cell_type": "code",
   "execution_count": 27,
   "metadata": {},
   "outputs": [],
   "source": [
    "## All the answers concern out of sample performance, so we need to set up test set framework\n",
    "tsfm_test = test.copy()\n",
    "tsfm_test['z3'] = tsfm_test['intensity'] * tsfm_test['symmetry']\n",
    "tsfm_test['z4'] = tsfm_test['intensity'] ** 2\n",
    "tsfm_test['z5'] = tsfm_test['symmetry'] ** 2\n",
    "\n",
    "## Need to transform the data a bit\n",
    "tsfm_train = train.copy()\n",
    "tsfm_train['z3'] = tsfm_train['intensity'] * tsfm_train['symmetry']\n",
    "tsfm_train['z4'] = tsfm_train['intensity'] ** 2\n",
    "tsfm_train['z5'] = tsfm_train['symmetry'] ** 2\n",
    "\n",
    "\n",
    "def one_v_all_test(train, test, n, lam):\n",
    "    Y = train['digit']\n",
    "    X = train.drop(['digit'], axis = 1)\n",
    "    Y = np.where(Y == n, 1, -1)\n",
    "    \n",
    "    Ytest = test['digit']\n",
    "    Xtest = test.drop(['digit'], axis = 1)\n",
    "    Ytest = np.where(Ytest == n, 1, -1)\n",
    "    \n",
    "    reg = linear_model.Ridge(alpha = lam)\n",
    "    reg.fit(X, Y)\n",
    "    guess = np.sign(reg.predict(Xtest))\n",
    "    error = E_in(guess, Ytest)\n",
    "    \n",
    "    return error"
   ]
  },
  {
   "cell_type": "code",
   "execution_count": 29,
   "metadata": {},
   "outputs": [
    {
     "name": "stdout",
     "output_type": "stream",
     "text": [
      "E_in for 0: 0.10662680617837568\n",
      "E_in for 1: 0.02192326856003986\n",
      "E_in for 2: 0.09865470852017937\n",
      "E_in for 3: 0.08271051320378675\n",
      "E_in for 4: 0.09965122072745392\n"
     ]
    }
   ],
   "source": [
    "\n",
    "\n",
    "for i in range(5):\n",
    "    print(\"E_in for {}: {}\".format(i, one_v_all_test(tsfm_train, tsfm_test, i, 1)))\n",
    "\n",
    "## B"
   ]
  },
  {
   "cell_type": "markdown",
   "metadata": {},
   "source": [
    "## Problem 9"
   ]
  },
  {
   "cell_type": "code",
   "execution_count": 21,
   "metadata": {},
   "outputs": [
    {
     "name": "stdout",
     "output_type": "stream",
     "text": [
      "E_out for 0, no transform: 0.11509715994020926\n",
      "E_out for 0, with transform: 0.10662680617837568\n",
      "E_out for 1, no transform: 0.02242152466367713\n",
      "E_out for 1, with transform: 0.02192326856003986\n",
      "E_out for 2, no transform: 0.09865470852017937\n",
      "E_out for 2, with transform: 0.09865470852017937\n",
      "E_out for 3, no transform: 0.08271051320378675\n",
      "E_out for 3, with transform: 0.08271051320378675\n",
      "E_out for 4, no transform: 0.09965122072745392\n",
      "E_out for 4, with transform: 0.09965122072745392\n",
      "E_out for 5, no transform: 0.07972097658196313\n",
      "E_out for 5, with transform: 0.07922272047832586\n",
      "E_out for 6, no transform: 0.08470353761833582\n",
      "E_out for 6, with transform: 0.08470353761833582\n",
      "E_out for 7, no transform: 0.07324364723467862\n",
      "E_out for 7, with transform: 0.07324364723467862\n",
      "E_out for 8, no transform: 0.08271051320378675\n",
      "E_out for 8, with transform: 0.08271051320378675\n",
      "E_out for 9, no transform: 0.08819133034379671\n",
      "E_out for 9, with transform: 0.08819133034379671\n"
     ]
    }
   ],
   "source": [
    "E_out = []\n",
    "E_out_tsfm = []\n",
    "for i in range(0, 10):\n",
    "    e_out = one_v_all_test(train, test, i, 1)\n",
    "    print(\"E_out for {}, no transform: {}\".format(i, e_out))\n",
    "    E_out.append(e_out)\n",
    "    \n",
    "    e_out = one_v_all_test(tsfm_train, tsfm_test, i, 1)\n",
    "    print(\"E_out for {}, with transform: {}\".format(i, e_out))\n",
    "    E_out_tsfm.append(e_out)"
   ]
  },
  {
   "cell_type": "code",
   "execution_count": 26,
   "metadata": {},
   "outputs": [
    {
     "data": {
      "text/plain": [
       "[<matplotlib.lines.Line2D at 0x7fe3c3f1af28>]"
      ]
     },
     "execution_count": 26,
     "metadata": {},
     "output_type": "execute_result"
    },
    {
     "data": {
      "image/png": "[encoded data removed]",
      "text/plain": [
       "<Figure size 432x288 with 1 Axes>"
      ]
     },
     "metadata": {
      "needs_background": "light"
     },
     "output_type": "display_data"
    }
   ],
   "source": [
    "import matplotlib.pyplot as plt\n",
    "\n",
    "ind = np.arange(0, 10)\n",
    "plt.plot(ind, E_out)\n",
    "plt.plot(ind, E_out_tsfm)\n",
    "\n",
    "## The rest are all wrong according to our findings. E is correct. "
   ]
  },
  {
   "cell_type": "markdown",
   "metadata": {},
   "source": [
    "## Problem 10"
   ]
  },
  {
   "cell_type": "code",
   "execution_count": 36,
   "metadata": {},
   "outputs": [],
   "source": [
    "\n",
    "def one_v_one(train, test, a, b, lam):\n",
    "    train = train[(train['digit'] == a) | (train['digit'] == b)]\n",
    "    Y = train['digit']\n",
    "    X = train.drop(['digit'], axis = 1)\n",
    "    Y = np.where(Y == a, 1, -1)\n",
    "    \n",
    "    test = test[(test['digit'] == a) | (test['digit'] == b)]\n",
    "    Ytest = test['digit']\n",
    "    Xtest = test.drop(['digit'], axis = 1)\n",
    "    Ytest = np.where(Ytest == a, 1, -1)\n",
    "    \n",
    "    reg = linear_model.Ridge(alpha = lam)\n",
    "    reg.fit(X, Y)\n",
    "    guess = np.sign(reg.predict(X))\n",
    "    ein = E_in(guess, Y)\n",
    "    \n",
    "    guess = np.sign(reg.predict(Xtest))\n",
    "    eout = E_in(guess, Ytest)\n",
    "    \n",
    "    return ein, eout"
   ]
  },
  {
   "cell_type": "code",
   "execution_count": 38,
   "metadata": {},
   "outputs": [
    {
     "name": "stdout",
     "output_type": "stream",
     "text": [
      "E_in: 0.004484304932735426, E_out: 0.02830188679245283\n",
      "E_in: 0.005124919923126201, E_out: 0.025943396226415096\n"
     ]
    }
   ],
   "source": [
    "lams = [0.01, 1]\n",
    "\n",
    "for lam in lams:\n",
    "    ein, eout = one_v_one(tsfm_train, tsfm_test, 1, 5, lam)\n",
    "    print(\"E_in: {}, E_out: {}\".format(ein, eout))\n",
    "    \n",
    "## When lam = 0.01, doing worse on E_out, doing too well on E_in, so overfitting (relatively). A."
   ]
  },
  {
   "cell_type": "markdown",
   "metadata": {},
   "source": [
    "## Problem 11"
   ]
  },
  {
   "cell_type": "code",
   "execution_count": 45,
   "metadata": {},
   "outputs": [
    {
     "data": {
      "text/plain": [
       "<matplotlib.collections.PathCollection at 0x7fe3c4f9e390>"
      ]
     },
     "execution_count": 45,
     "metadata": {},
     "output_type": "execute_result"
    },
    {
     "data": {
      "image/png": "[encoded data removed]",
      "text/plain": [
       "<Figure size 432x288 with 1 Axes>"
      ]
     },
     "metadata": {
      "needs_background": "light"
     },
     "output_type": "display_data"
    }
   ],
   "source": [
    "# Writing in the training data\n",
    "X = np.array([[1, 0], [0, 1], [0, -1], [-1, 0], [0, 2], [0, -2], [-2, 0]])\n",
    "Y = np.array([-1, -1, -1, +1, +1, +1, +1])\n",
    "color = ['red' if x == -1 else 'green' for x in Y]\n",
    "plt.scatter(X[:, 0], X[:, 1], color= color)"
   ]
  },
  {
   "cell_type": "code",
   "execution_count": 51,
   "metadata": {},
   "outputs": [],
   "source": [
    "Z = np.zeros((X.shape))\n",
    "Z[:, 0] = X[:, 0] * -2 + X[:, 1] ** 2 - 1\n",
    "Z[:, 1] = X[:, 1] * -2 + X[:, 0] ** 2 - 1"
   ]
  },
  {
   "cell_type": "code",
   "execution_count": 52,
   "metadata": {},
   "outputs": [
    {
     "data": {
      "text/plain": [
       "<matplotlib.collections.PathCollection at 0x7fe3c5233080>"
      ]
     },
     "execution_count": 52,
     "metadata": {},
     "output_type": "execute_result"
    },
    {
     "data": {
      "image/png": "[encoded data removed]",
      "text/plain": [
       "<Figure size 432x288 with 1 Axes>"
      ]
     },
     "metadata": {
      "needs_background": "light"
     },
     "output_type": "display_data"
    }
   ],
   "source": [
    "Y = np.array([-1, -1, -1, +1, +1, +1, +1])\n",
    "color = ['red' if x == -1 else 'green' for x in Y]\n",
    "plt.scatter(Z[:, 0], Z[:, 1], color= color)"
   ]
  },
  {
   "cell_type": "code",
   "execution_count": 53,
   "metadata": {},
   "outputs": [],
   "source": [
    "## We want the hyperplane that goes up and down, like z1 = 0.5. To get that we need w1 = 1, w2 = 0 (cuz we don't care what w2 is) and b = -0.5\n",
    "# Choose C."
   ]
  },
  {
   "cell_type": "markdown",
   "metadata": {},
   "source": [
    "## Problem 12"
   ]
  },
  {
   "cell_type": "code",
   "execution_count": 58,
   "metadata": {},
   "outputs": [
    {
     "data": {
      "text/plain": [
       "array([2, 3], dtype=int32)"
      ]
     },
     "execution_count": 58,
     "metadata": {},
     "output_type": "execute_result"
    }
   ],
   "source": [
    "from sklearn import svm\n",
    "\n",
    "clf = svm.SVC(C = 10000, gamma = 1, kernel = 'poly', coef0 =1, degree = 2 )\n",
    "clf.fit(X, Y)\n",
    "clf.n_support_\n",
    "\n",
    "# C"
   ]
  },
  {
   "cell_type": "markdown",
   "metadata": {},
   "source": [
    "## Problem 13"
   ]
  },
  {
   "cell_type": "code",
   "execution_count": 68,
   "metadata": {},
   "outputs": [],
   "source": [
    "## Need to set up K means (RBF) model as well as RBF kernel SVM\n",
    "\n",
    "import random\n",
    "# First need to generate data:\n",
    "def generate_point():\n",
    "    x, y = random.uniform(-1, 1), random.uniform(-1, 1)\n",
    "    return (x, y)\n",
    "\n",
    "class Data:\n",
    "\n",
    "    def target_function(self, x):\n",
    "        return np.sign(x[1] - x[0] + 0.25 * np.sin(np.pi* x[0]))\n",
    "\n",
    "\n",
    "    def __init__(self, num_points):\n",
    "        p0 = generate_point()\n",
    "        p1 = generate_point()\n",
    "        self.target_m = (p1[1] - p0[1]) / (p1[0] - p0[0])\n",
    "        self.target_b = p0[1] - self.target_m * p0[0]\n",
    "\n",
    "        self.X = []\n",
    "        self.Y = []\n",
    "        for i in range(num_points):\n",
    "            pt = generate_point()\n",
    "            self.X.append(pt)\n",
    "            self.Y.append(self.target_function(pt))\n",
    "\n",
    "    def plot(self):\n",
    "        cs = [\"red\" if y > 0 else \"blue\" for y in self.Y]\n",
    "        plt.scatter([x[0] for x in self.X], [x[1] for x in self.X], c=cs)\n",
    "        plt.gca().set_aspect(1)\n",
    "        plt.xlim([-1, 1])\n",
    "        plt.ylim([-1, 1])\n",
    "        plt.title(\"Target function\")\n",
    "        plt.show()\n",
    "        "
   ]
  },
  {
   "cell_type": "code",
   "execution_count": 81,
   "metadata": {},
   "outputs": [
    {
     "data": {
      "text/plain": [
       "1.0"
      ]
     },
     "execution_count": 81,
     "metadata": {},
     "output_type": "execute_result"
    }
   ],
   "source": [
    "count = 0\n",
    "for i in range(1000):\n",
    "    d = Data(100)\n",
    "\n",
    "    clf = svm.SVC(C = 10000, kernel = 'rbf', gamma = 1.5)\n",
    "    X = np.array(d.X)\n",
    "    clf.fit(X, d.Y)\n",
    "    guess = clf.predict(X)\n",
    "\n",
    "    ein = np.mean(guess != d.Y)\n",
    "    if ein == 0:\n",
    "        count += 1\n",
    "\n",
    "count/1000\n",
    "\n",
    "## A"
   ]
  },
  {
   "cell_type": "markdown",
   "metadata": {},
   "source": [
    "## Problem 14"
   ]
  },
  {
   "cell_type": "code",
   "execution_count": 130,
   "metadata": {},
   "outputs": [],
   "source": [
    "## Need to implement a regular RBF function, this isn't given. We can assume we have the centers from KMeans though.\n",
    "\n",
    "class regularRBF:\n",
    "    \n",
    "    def __init__(self, X, Y, mu, gamma):\n",
    "        self.X = np.array(X)\n",
    "        self.Y = Y\n",
    "        # Mu is a k x 2 array\n",
    "        self.mu = mu\n",
    "        self.gamma = gamma\n",
    "        self.w = len(mu)\n",
    "        \n",
    "    def compute_phi(self, X, mu):\n",
    "        \n",
    "        k = len(mu)\n",
    "        phi = np.zeros((len(X), len(mu)))\n",
    "        for i in range(k):\n",
    "            temp = X - mu[i]\n",
    "            col = temp[:, 0] ** 2 + temp[:, 1] ** 2\n",
    "            col = np.exp(-self.gamma * col)\n",
    "            phi[:, i] = col\n",
    "        return phi\n",
    "    \n",
    "    def fit(self):\n",
    "        phi = self.compute_phi(self.X, self.mu)\n",
    "        y = self.Y\n",
    "        p_inverse = np.dot(np.linalg.inv(np.dot(np.transpose(phi), phi)) , np.transpose(phi))\n",
    "        self.w = np.dot(p_inverse, y)\n",
    "        \n",
    "    def predict(self, X, mu):\n",
    "        X = np.array(X)\n",
    "        phi = self.compute_phi(X, mu)\n",
    "        guess = np.dot(phi, self.w)\n",
    "        guess = np.sign(guess)\n",
    "        return guess"
   ]
  },
  {
   "cell_type": "code",
   "execution_count": 149,
   "metadata": {},
   "outputs": [
    {
     "data": {
      "text/plain": [
       "0.9772"
      ]
     },
     "execution_count": 149,
     "metadata": {},
     "output_type": "execute_result"
    }
   ],
   "source": [
    "from sklearn.cluster import KMeans\n",
    "\n",
    "# First train the models\n",
    "\n",
    "d = Data(100)\n",
    "\n",
    "# This is the SVM with rbf kernel\n",
    "clf = svm.SVC(C = 10000, kernel = 'rbf', gamma = 1.5)\n",
    "X = np.array(d.X)\n",
    "clf.fit(X, d.Y)\n",
    "\n",
    "# This is the regular RBF model\n",
    "kmeans = KMeans(n_clusters = 9, random_state = 11).fit(d.X)\n",
    "mu = kmeans.cluster_centers_\n",
    "rbf = regularRBF(d.X, d.Y, mu, 1.5)\n",
    "rbf.fit()\n",
    "\n",
    "# generate new data for testing\n",
    "svm_wins = 0\n",
    "for i in range(10000):\n",
    "    d = Data(100)\n",
    "    \n",
    "    svm_guess = clf.predict(d.X)\n",
    "    \n",
    "    rbf_guess = rbf.predict(d.X, mu)\n",
    "    \n",
    "    svm_e = E_in(svm_guess, d.Y)\n",
    "    rbf_e = E_in(rbf_guess, d.Y)\n",
    "    \n",
    "    if svm_e < rbf_e:\n",
    "        svm_wins += 1\n",
    "        \n",
    "svm_wins/10000\n",
    "\n",
    "## Ran this a few times (not shown) but always greater than 75 for n = 100000. E"
   ]
  },
  {
   "cell_type": "markdown",
   "metadata": {},
   "source": [
    "## Problem 15"
   ]
  },
  {
   "cell_type": "code",
   "execution_count": 151,
   "metadata": {},
   "outputs": [
    {
     "data": {
      "text/plain": [
       "0.7722"
      ]
     },
     "execution_count": 151,
     "metadata": {},
     "output_type": "execute_result"
    }
   ],
   "source": [
    "d = Data(100)\n",
    "\n",
    "# This is the SVM with rbf kernel\n",
    "clf = svm.SVC(C = 10000, kernel = 'rbf', gamma = 1.5)\n",
    "X = np.array(d.X)\n",
    "clf.fit(X, d.Y)\n",
    "\n",
    "# This is the regular RBF model\n",
    "kmeans = KMeans(n_clusters = 12, random_state = 11).fit(d.X)\n",
    "mu = kmeans.cluster_centers_\n",
    "rbf = regularRBF(d.X, d.Y, mu, 1.5)\n",
    "rbf.fit()\n",
    "\n",
    "# generate new data for testing\n",
    "svm_wins = 0\n",
    "for i in range(10000):\n",
    "    d = Data(100)\n",
    "    \n",
    "    svm_guess = clf.predict(d.X)\n",
    "    \n",
    "    rbf_guess = rbf.predict(d.X, mu)\n",
    "    \n",
    "    svm_e = E_in(svm_guess, d.Y)\n",
    "    rbf_e = E_in(rbf_guess, d.Y)\n",
    "    \n",
    "    if svm_e < rbf_e:\n",
    "        svm_wins += 1\n",
    "        \n",
    "svm_wins/10000\n",
    "\n",
    "# Writing adaptible code is good! D."
   ]
  },
  {
   "cell_type": "markdown",
   "metadata": {},
   "source": [
    "## Problem 16"
   ]
  },
  {
   "cell_type": "code",
   "execution_count": 164,
   "metadata": {},
   "outputs": [
    {
     "name": "stdout",
     "output_type": "stream",
     "text": [
      "E_in (K=9) 0.04\n",
      "E_in (K=12) 0.02\n",
      "E_out (K=9) 0.08\n",
      "E_out (K=12) 0.06\n",
      "\n",
      "\n",
      "E_in (K=9) 0.06\n",
      "E_in (K=12) 0.03\n",
      "E_out (K=9) 0.06\n",
      "E_out (K=12) 0.03\n",
      "\n",
      "\n",
      "E_in (K=9) 0.04\n",
      "E_in (K=12) 0.02\n",
      "E_out (K=9) 0.03\n",
      "E_out (K=12) 0.03\n",
      "\n",
      "\n",
      "E_in (K=9) 0.03\n",
      "E_in (K=12) 0.02\n",
      "E_out (K=9) 0.06\n",
      "E_out (K=12) 0.05\n",
      "\n",
      "\n",
      "E_in (K=9) 0.08\n",
      "E_in (K=12) 0.06\n",
      "E_out (K=9) 0.11\n",
      "E_out (K=12) 0.1\n",
      "\n",
      "\n",
      "E_in (K=9) 0.02\n",
      "E_in (K=12) 0.03\n",
      "E_out (K=9) 0.01\n",
      "E_out (K=12) 0.06\n",
      "\n",
      "\n",
      "E_in (K=9) 0.05\n",
      "E_in (K=12) 0.02\n",
      "E_out (K=9) 0.09\n",
      "E_out (K=12) 0.06\n",
      "\n",
      "\n",
      "E_in (K=9) 0.03\n",
      "E_in (K=12) 0.01\n",
      "E_out (K=9) 0.04\n",
      "E_out (K=12) 0.02\n",
      "\n",
      "\n",
      "E_in (K=9) 0.05\n",
      "E_in (K=12) 0.03\n",
      "E_out (K=9) 0.05\n",
      "E_out (K=12) 0.03\n",
      "\n",
      "\n",
      "E_in (K=9) 0.01\n",
      "E_in (K=12) 0.01\n",
      "E_out (K=9) 0.06\n",
      "E_out (K=12) 0.05\n",
      "\n",
      "\n"
     ]
    }
   ],
   "source": [
    "\n",
    "## Run diffrent clutsers\n",
    "for i in range(10):\n",
    "    d = Data(100)\n",
    "\n",
    "    k1 = KMeans(n_clusters = 9, random_state = 11).fit(d.X)\n",
    "    k2 = KMeans(n_clusters = 12, random_state = 11).fit(d.X)\n",
    "\n",
    "    rbf9 = regularRBF(d.X, d.Y, k1.cluster_centers_, 1.5)\n",
    "    rbf12 = regularRBF(d.X, d.Y, k2.cluster_centers_, 1.5)\n",
    "\n",
    "    rbf9.fit()\n",
    "    rbf12.fit()\n",
    "\n",
    "    # Compute E_in\n",
    "    guess = rbf9.predict(d.X, k1.cluster_centers_)\n",
    "    ein = E_in(guess, d.Y)\n",
    "    print(\"E_in (K=9) {}\".format(ein))\n",
    "\n",
    "    guess = rbf12.predict(d.X, k2.cluster_centers_)\n",
    "    ein = E_in(guess, d.Y)\n",
    "    print(\"E_in (K=12) {}\".format(ein))\n",
    "\n",
    "\n",
    "    # Compute E_out\n",
    "    # generate new data\n",
    "    d = Data(100)\n",
    "\n",
    "\n",
    "    guess = rbf9.predict(d.X, k1.cluster_centers_)\n",
    "    eout = E_in(guess, d.Y)\n",
    "    print(\"E_out (K=9) {}\".format(eout))\n",
    "\n",
    "    guess = rbf12.predict(d.X, k2.cluster_centers_)\n",
    "    eout = E_in(guess, d.Y)\n",
    "    print(\"E_out (K=12) {}\".format(eout))\n",
    "    print(\"\\n\")\n",
    "\n",
    "\n",
    "## D"
   ]
  },
  {
   "cell_type": "code",
   "execution_count": 167,
   "metadata": {},
   "outputs": [
    {
     "name": "stdout",
     "output_type": "stream",
     "text": [
      "E_in (gamma 1.5) 0.02\n",
      "E_in (gamma 2) 0.02\n",
      "E_out (gamma 1.5) 0.08\n",
      "E_out (gamma 2) 0.07\n",
      "\n",
      "\n",
      "E_in (gamma 1.5) 0.05\n",
      "E_in (gamma 2) 0.05\n",
      "E_out (gamma 1.5) 0.07\n",
      "E_out (gamma 2) 0.07\n",
      "\n",
      "\n",
      "E_in (gamma 1.5) 0.06\n",
      "E_in (gamma 2) 0.06\n",
      "E_out (gamma 1.5) 0.06\n",
      "E_out (gamma 2) 0.07\n",
      "\n",
      "\n",
      "E_in (gamma 1.5) 0.03\n",
      "E_in (gamma 2) 0.03\n",
      "E_out (gamma 1.5) 0.0\n",
      "E_out (gamma 2) 0.0\n",
      "\n",
      "\n",
      "E_in (gamma 1.5) 0.03\n",
      "E_in (gamma 2) 0.03\n",
      "E_out (gamma 1.5) 0.04\n",
      "E_out (gamma 2) 0.04\n",
      "\n",
      "\n",
      "E_in (gamma 1.5) 0.04\n",
      "E_in (gamma 2) 0.04\n",
      "E_out (gamma 1.5) 0.1\n",
      "E_out (gamma 2) 0.1\n",
      "\n",
      "\n",
      "E_in (gamma 1.5) 0.03\n",
      "E_in (gamma 2) 0.03\n",
      "E_out (gamma 1.5) 0.07\n",
      "E_out (gamma 2) 0.07\n",
      "\n",
      "\n",
      "E_in (gamma 1.5) 0.06\n",
      "E_in (gamma 2) 0.06\n",
      "E_out (gamma 1.5) 0.03\n",
      "E_out (gamma 2) 0.04\n",
      "\n",
      "\n",
      "E_in (gamma 1.5) 0.05\n",
      "E_in (gamma 2) 0.05\n",
      "E_out (gamma 1.5) 0.07\n",
      "E_out (gamma 2) 0.07\n",
      "\n",
      "\n",
      "E_in (gamma 1.5) 0.05\n",
      "E_in (gamma 2) 0.05\n",
      "E_out (gamma 1.5) 0.07\n",
      "E_out (gamma 2) 0.07\n",
      "\n",
      "\n"
     ]
    }
   ],
   "source": [
    "## same idea, just need to change gamma instead\n",
    "\n",
    "\n",
    "for i in range(10):\n",
    "    d = Data(100)\n",
    "\n",
    "    k1 = KMeans(n_clusters = 9, random_state = 11).fit(d.X)\n",
    "\n",
    "    rbf9 = regularRBF(d.X, d.Y, k1.cluster_centers_, 1.5)\n",
    "    rbf12 = regularRBF(d.X, d.Y, k1.cluster_centers_, 2)\n",
    "\n",
    "    rbf9.fit()\n",
    "    rbf12.fit()\n",
    "\n",
    "    # Compute E_in\n",
    "    guess = rbf9.predict(d.X, k1.cluster_centers_)\n",
    "    ein = E_in(guess, d.Y)\n",
    "    print(\"E_in (gamma 1.5) {}\".format(ein))\n",
    "\n",
    "    guess = rbf12.predict(d.X, k1.cluster_centers_)\n",
    "    ein = E_in(guess, d.Y)\n",
    "    print(\"E_in (gamma 2) {}\".format(ein))\n",
    "\n",
    "\n",
    "    # Compute E_out\n",
    "    # generate new data\n",
    "    d = Data(100)\n",
    "\n",
    "\n",
    "    guess = rbf9.predict(d.X, k1.cluster_centers_)\n",
    "    eout = E_in(guess, d.Y)\n",
    "    print(\"E_out (gamma 1.5) {}\".format(eout))\n",
    "\n",
    "    guess = rbf12.predict(d.X, k1.cluster_centers_)\n",
    "    eout = E_in(guess, d.Y)\n",
    "    print(\"E_out (gamma 2) {}\".format(eout))\n",
    "    print(\"\\n\")\n",
    "\n",
    "    ## E_in isn't really going up most of hte time, but E_out is going up. C."
   ]
  },
  {
   "cell_type": "markdown",
   "metadata": {},
   "source": [
    "## Problem 18"
   ]
  },
  {
   "cell_type": "code",
   "execution_count": 170,
   "metadata": {},
   "outputs": [
    {
     "data": {
      "text/plain": [
       "0.021"
      ]
     },
     "execution_count": 170,
     "metadata": {},
     "output_type": "execute_result"
    }
   ],
   "source": [
    "\n",
    "counts = 0\n",
    "for i in range(1000):\n",
    "    d = Data(100)\n",
    "\n",
    "    k1 = KMeans(n_clusters = 9, random_state = 11).fit(d.X)\n",
    "\n",
    "    rbf9 = regularRBF(d.X, d.Y, k1.cluster_centers_, 1.5)\n",
    "\n",
    "    rbf9.fit()\n",
    "\n",
    "    # Compute E_in\n",
    "    guess = rbf9.predict(d.X, k1.cluster_centers_)\n",
    "    ein = E_in(guess, d.Y)\n",
    "    if ein == 0:\n",
    "        counts += 1\n",
    "\n",
    "counts / 1000\n",
    "\n",
    "## A"
   ]
  },
  {
   "cell_type": "markdown",
   "metadata": {},
   "source": [
    "## Problem 19"
   ]
  },
  {
   "cell_type": "markdown",
   "metadata": {},
   "source": [
    "Basically this just means the probability increased posteriorly. So therefore every point in the target space moves up, sinc we are using a constant hypothesis. B."
   ]
  },
  {
   "cell_type": "markdown",
   "metadata": {},
   "source": [
    "## Problem 20"
   ]
  },
  {
   "cell_type": "markdown",
   "metadata": {},
   "source": [
    "If the real value is any closer to $g_1$, then it will favor $g_1$ more. If it is any closer to $g_2$ it will favor $g_2$ more than average. Therefore it must be at least as good as average."
   ]
  },
  {
   "cell_type": "code",
   "execution_count": null,
   "metadata": {},
   "outputs": [],
   "source": []
  }
 ],
 "metadata": {
  "kernelspec": {
   "display_name": "Python 3",
   "language": "python",
   "name": "python3"
  },
  "language_info": {
   "codemirror_mode": {
    "name": "ipython",
    "version": 3
   },
   "file_extension": ".py",
   "mimetype": "text/x-python",
   "name": "python",
   "nbconvert_exporter": "python",
   "pygments_lexer": "ipython3",
   "version": "3.6.10"
  }
 },
 "nbformat": 4,
 "nbformat_minor": 4
}
