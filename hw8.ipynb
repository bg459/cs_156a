{
 "cells": [
  {
   "cell_type": "markdown",
   "metadata": {},
   "source": [
    "## Problem 1"
   ]
  },
  {
   "cell_type": "markdown",
   "metadata": {},
   "source": [
    "We need to learn the values in the vector $w$ and also the bias term $b$. But $w$ is a size $d$ vector. So choose D."
   ]
  },
  {
   "cell_type": "code",
   "execution_count": 1,
   "metadata": {},
   "outputs": [],
   "source": [
    "import pandas as pd\n",
    "import numpy as np\n",
    "\n",
    "train = pd.read_table(\"http://www.amlbook.com/data/zip/features.train\", delim_whitespace = True, header = None)\n",
    "test = pd.read_table(\"http://www.amlbook.com/data/zip/features.test\", delim_whitespace = True, header = None)\n"
   ]
  },
  {
   "cell_type": "code",
   "execution_count": 4,
   "metadata": {},
   "outputs": [],
   "source": [
    "col_names = ['digit', 'intensity', 'symmetry']\n",
    "train.columns = col_names\n",
    "test.columns = col_names\n"
   ]
  },
  {
   "cell_type": "code",
   "execution_count": 10,
   "metadata": {},
   "outputs": [
    {
     "data": {
      "text/html": [
       "<div>\n",
       "<style scoped>\n",
       "    .dataframe tbody tr th:only-of-type {\n",
       "        vertical-align: middle;\n",
       "    }\n",
       "\n",
       "    .dataframe tbody tr th {\n",
       "        vertical-align: top;\n",
       "    }\n",
       "\n",
       "    .dataframe thead th {\n",
       "        text-align: right;\n",
       "    }\n",
       "</style>\n",
       "<table border=\"1\" class=\"dataframe\">\n",
       "  <thead>\n",
       "    <tr style=\"text-align: right;\">\n",
       "      <th></th>\n",
       "      <th>intensity</th>\n",
       "      <th>symmetry</th>\n",
       "    </tr>\n",
       "  </thead>\n",
       "  <tbody>\n",
       "    <tr>\n",
       "      <th>0</th>\n",
       "      <td>0.341092</td>\n",
       "      <td>-4.528937</td>\n",
       "    </tr>\n",
       "    <tr>\n",
       "      <th>1</th>\n",
       "      <td>0.444131</td>\n",
       "      <td>-5.496812</td>\n",
       "    </tr>\n",
       "    <tr>\n",
       "      <th>2</th>\n",
       "      <td>0.231002</td>\n",
       "      <td>-2.886750</td>\n",
       "    </tr>\n",
       "    <tr>\n",
       "      <th>3</th>\n",
       "      <td>0.200275</td>\n",
       "      <td>-3.534375</td>\n",
       "    </tr>\n",
       "    <tr>\n",
       "      <th>4</th>\n",
       "      <td>0.291936</td>\n",
       "      <td>-4.352062</td>\n",
       "    </tr>\n",
       "  </tbody>\n",
       "</table>\n",
       "</div>"
      ],
      "text/plain": [
       "   intensity  symmetry\n",
       "0   0.341092 -4.528937\n",
       "1   0.444131 -5.496812\n",
       "2   0.231002 -2.886750\n",
       "3   0.200275 -3.534375\n",
       "4   0.291936 -4.352062"
      ]
     },
     "execution_count": 10,
     "metadata": {},
     "output_type": "execute_result"
    }
   ],
   "source": [
    "Y_train = train['digit']\n",
    "X_train = train.drop(['digit'], axis = 1)\n",
    "Y_test = test['digit']\n",
    "X_test = test.drop(['digit'], axis = 1)\n"
   ]
  },
  {
   "cell_type": "code",
   "execution_count": 12,
   "metadata": {},
   "outputs": [
    {
     "data": {
      "text/plain": [
       "SVC(coef0=1, degree=2, kernel='poly')"
      ]
     },
     "execution_count": 12,
     "metadata": {},
     "output_type": "execute_result"
    }
   ],
   "source": [
    "from sklearn import svm\n",
    "poly_svm = svm.SVC(kernel = 'poly', degree=2, coef0=1)\n",
    "poly_svm.fit(X_train, Y_train)"
   ]
  },
  {
   "cell_type": "markdown",
   "metadata": {},
   "source": [
    "## Problem 2, 3"
   ]
  },
  {
   "cell_type": "code",
   "execution_count": 60,
   "metadata": {},
   "outputs": [
    {
     "name": "stdout",
     "output_type": "stream",
     "text": [
      "0 versus all: 0.10588396653408312\n",
      "1 versus all: 0.014401316691811822\n",
      "2 versus all: 0.10026059525442327\n",
      "3 versus all: 0.09024825126868742\n",
      "4 versus all: 0.08942531888629818\n",
      "5 versus all: 0.07625840076807022\n",
      "6 versus all: 0.09107118365107666\n",
      "7 versus all: 0.08846523110684405\n",
      "8 versus all: 0.07433822520916199\n",
      "9 versus all: 0.08832807570977919\n"
     ]
    }
   ],
   "source": [
    "## Calculate E_in\n",
    "\n",
    "def E_in(guess, Y):\n",
    "    return np.mean(guess != Y)\n",
    "\n",
    "# Performs one v all testing with some parameters\n",
    "# Set n to +1, everything else to -1\n",
    "def one_v_all(X, Y, n):\n",
    "    Y = np.where(Y == n, 1, -1)\n",
    "    poly_svm = svm.SVC(kernel = 'poly', degree=2, coef0=1, C = 0.01, gamma = 1)\n",
    "    poly_svm.fit(X, Y)\n",
    "    guess = poly_svm.predict(X)\n",
    "    return E_in(guess, Y)\n",
    "    \n",
    "for i in range(10):\n",
    "    z = one_v_all(X_train, Y_train, i)\n",
    "    print(\"{} versus all: {}\".format(i, z))\n",
    "    \n",
    "## A, A"
   ]
  },
  {
   "cell_type": "markdown",
   "metadata": {},
   "source": [
    "## Problem 4"
   ]
  },
  {
   "cell_type": "code",
   "execution_count": 62,
   "metadata": {},
   "outputs": [
    {
     "name": "stdout",
     "output_type": "stream",
     "text": [
      "-1793\n"
     ]
    }
   ],
   "source": [
    "# Need to do 0 vs 1\n",
    "def one_v_all_vectors(X, Y, n):\n",
    "    Y = np.where(Y == n, 1, -1)\n",
    "    poly_svm = svm.SVC(kernel = 'poly', degree=2, coef0=1, C = 0.01, gamma = 1)\n",
    "    poly_svm.fit(X, Y)\n",
    "    return len(poly_svm.support_)\n",
    "\n",
    "print(one_v_all_vectors(X_train, Y_train, 1)-one_v_all_vectors(X_train, Y_train, 0))\n",
    "# C"
   ]
  },
  {
   "cell_type": "markdown",
   "metadata": {},
   "source": [
    "## Problem 5"
   ]
  },
  {
   "cell_type": "code",
   "execution_count": 63,
   "metadata": {},
   "outputs": [],
   "source": [
    "# one v other method\n",
    "def one_v_other(train, a, b, my_C, q):\n",
    "    temp = train[(train['digit'] == a) | (train['digit'] == b) ]\n",
    "    Y = temp['digit']\n",
    "    X = temp.drop(['digit'], axis = 1)\n",
    "    Y = np.where(Y == a, 1, -1)\n",
    "    poly_svm = svm.SVC(kernel = 'poly', degree=q, coef0=1, C = my_C, gamma = 1)\n",
    "    poly_svm.fit(X, Y)\n",
    "    return (poly_svm, X, Y)"
   ]
  },
  {
   "cell_type": "code",
   "execution_count": 64,
   "metadata": {},
   "outputs": [
    {
     "name": "stdout",
     "output_type": "stream",
     "text": [
      "c = 0.001\n",
      "Support vectors: 76\n",
      "Error: 0.004484304932735426\n",
      "c = 0.01\n",
      "Support vectors: 34\n",
      "Error: 0.004484304932735426\n",
      "c = 0.1\n",
      "Support vectors: 24\n",
      "Error: 0.004484304932735426\n",
      "c = 1\n",
      "Support vectors: 24\n",
      "Error: 0.0032030749519538757\n"
     ]
    },
    {
     "data": {
      "text/plain": [
       "False"
      ]
     },
     "execution_count": 64,
     "metadata": {},
     "output_type": "execute_result"
    }
   ],
   "source": [
    "Cs = [0.001, 0.01, 0.1, 1]\n",
    "errors = []\n",
    "for c in Cs:\n",
    "    model, X, Y = one_v_other(train, 5, 1, c,2)\n",
    "    print(\"c = \" + str(c))\n",
    "    print(\"Support vectors: {}\".format(len(model.support_)))\n",
    "    guess = model.predict(X)\n",
    "    ein = E_in(guess, Y)\n",
    "    errors.append(ein)\n",
    "    print(\"Error: {}\".format(ein))\n",
    "\n",
    "errors[2] == errors[3]\n",
    "\n",
    "# D , didn't need to test option C"
   ]
  },
  {
   "cell_type": "code",
   "execution_count": 69,
   "metadata": {},
   "outputs": [
    {
     "name": "stdout",
     "output_type": "stream",
     "text": [
      "0.004484304932735426\n",
      "51\n",
      "0.0006406149903907749\n"
     ]
    }
   ],
   "source": [
    "## Easiest way to do this to try the answers till we get a hit.\n",
    "\n",
    "#A: C = 0.0001, compute E_in\n",
    "model2, X, Y = one_v_other(train, 1, 5, 0.0001, 2)\n",
    "model5, _, _ = one_v_other(train, 1, 5, 0.0001, 5)\n",
    "guess2 = model2.predict(X)\n",
    "guess5 = model5.predict(X)\n",
    "print(E_in(guess2, Y) - E_in(guess5, Y)) ## FALSE\n",
    "\n",
    "# B: C = 0.001, compute number of vectors\n",
    "model2, X, Y = one_v_other(train, 1, 5, 0.001, 2)\n",
    "model5, _, _ = one_v_other(train, 1, 5, 0.001, 5)\n",
    "print(len(model2.support_) - len(model5.support_)) ## TRUE\n",
    "\n",
    "# C: C = 0.01, compute E_in\n",
    "model2, X, Y = one_v_other(train, 1, 5, 0.01, 2)\n",
    "model5, _, _ = one_v_other(train, 1, 5, 0.01, 5)\n",
    "guess2 = model2.predict(X)\n",
    "guess5 = model5.predict(X)\n",
    "print(E_in(guess2, Y) - E_in(guess5, Y)) ## FALSE\n",
    "\n",
    "## too lazy to do D, whatever. Choose B"
   ]
  },
  {
   "cell_type": "markdown",
   "metadata": {},
   "source": [
    "## Problem 7"
   ]
  },
  {
   "cell_type": "code",
   "execution_count": 100,
   "metadata": {},
   "outputs": [
    {
     "data": {
      "text/plain": [
       "2"
      ]
     },
     "execution_count": 100,
     "metadata": {},
     "output_type": "execute_result"
    }
   ],
   "source": [
    "## Want to select C. \n",
    "from sklearn.model_selection import KFold\n",
    "\n",
    "\n",
    "def ovo_cv(train, a, b, my_C, q):\n",
    "    temp = train[(train['digit'] == a) | (train['digit'] == b) ]\n",
    "    Y = temp['digit']\n",
    "    X = temp.drop(['digit'], axis = 1)\n",
    "    y = np.where(Y == a, 1, -1)\n",
    "    X = np.array(X)\n",
    "    kf = KFold(10, shuffle = True)\n",
    "    \n",
    "    err = 0\n",
    "    for train_index, test_index in kf.split(X):\n",
    "        X_train, X_test = X[train_index], X[test_index]\n",
    "        y_train, y_test = y[train_index], y[test_index]\n",
    "    \n",
    "        poly_svm = svm.SVC(kernel = 'poly', degree=q, coef0=1, C = my_C, gamma = 1)\n",
    "        poly_svm.fit(X_train, y_train)\n",
    "        guess = poly_svm.predict(X_test)\n",
    "        ein = E_in(guess, y_test)\n",
    "        err += ein\n",
    "    return err/10\n",
    "    \n",
    "## Run based on C\n",
    "d = [] \n",
    "for i in range(100):\n",
    "    c = {}\n",
    "    c[4] = ovo_cv(train, 1, 5, 0.0001, 2)\n",
    "    c[3] =ovo_cv(train, 1, 5, 0.001, 2)\n",
    "    c[2] = ovo_cv(train, 1, 5, 0.01, 2)\n",
    "    c[1] = ovo_cv(train, 1, 5, 0.1, 2)\n",
    "    c[0] = ovo_cv(train, 1, 5, 1, 2)\n",
    "    biggest = min(c, key = c.get)\n",
    "    d.append(biggest)\n",
    "    \n",
    "max(set(d), key = d.count)\n",
    "## C"
   ]
  },
  {
   "cell_type": "markdown",
   "metadata": {},
   "source": [
    "## Problem 8"
   ]
  },
  {
   "cell_type": "code",
   "execution_count": 102,
   "metadata": {},
   "outputs": [
    {
     "data": {
      "text/plain": [
       "0.004695778213294136"
      ]
     },
     "execution_count": 102,
     "metadata": {},
     "output_type": "execute_result"
    }
   ],
   "source": [
    "d = []\n",
    "for i in range(100):\n",
    "    x = ovo_cv(train, 1, 5, 0.01, 2)\n",
    "    d.append(x)\n",
    "np.mean(d)\n",
    "## C"
   ]
  },
  {
   "cell_type": "markdown",
   "metadata": {},
   "source": [
    "## Problem 9"
   ]
  },
  {
   "cell_type": "code",
   "execution_count": 107,
   "metadata": {},
   "outputs": [
    {
     "name": "stdout",
     "output_type": "stream",
     "text": [
      "C:0.01\n",
      "0.003843689942344651\n",
      "C:1\n",
      "0.004484304932735426\n",
      "C:100\n",
      "0.0032030749519538757\n",
      "C:10000\n",
      "0.0025624599615631004\n",
      "C:1000000\n",
      "0.0006406149903907751\n"
     ]
    }
   ],
   "source": [
    "# pasting this method again so I have the reference\n",
    "def one_v_other_rbf(train, a, b, my_C):\n",
    "    temp = train[(train['digit'] == a) | (train['digit'] == b) ]\n",
    "    Y = temp['digit']\n",
    "    X = temp.drop(['digit'], axis = 1)\n",
    "    Y = np.where(Y == a, 1, -1)\n",
    "    poly_svm = svm.SVC(kernel = 'rbf', C = my_C, gamma = 1)\n",
    "    poly_svm.fit(X, Y)\n",
    "    return (poly_svm, X, Y)\n",
    "\n",
    "C = [0.01, 1, 100, 10**4, 10 ** 6]\n",
    "\n",
    "for c in C:\n",
    "    print(\"C:\" + str(c))\n",
    "    z, X, Y = one_v_other_rbf(train, 1, 5, c)\n",
    "    guess = z.predict(X)\n",
    "    print(E_in(guess, Y))\n",
    "\n",
    "# E "
   ]
  },
  {
   "cell_type": "markdown",
   "metadata": {},
   "source": [
    "## Problem 10"
   ]
  },
  {
   "cell_type": "code",
   "execution_count": 108,
   "metadata": {},
   "outputs": [
    {
     "name": "stdout",
     "output_type": "stream",
     "text": [
      "C:0.01\n",
      "0.02358490566037736\n",
      "C:1\n",
      "0.02122641509433962\n",
      "C:100\n",
      "0.018867924528301886\n",
      "C:10000\n",
      "0.02358490566037736\n",
      "C:1000000\n",
      "0.02358490566037736\n"
     ]
    }
   ],
   "source": [
    "# now i FINALLY need to construct the test dataset. Thankfully its not that hard\n",
    "a, b = 1, 5\n",
    "temp = test[(test['digit'] == a) | (test['digit'] == b) ]\n",
    "Y_test = temp['digit']\n",
    "X_test = temp.drop(['digit'], axis = 1)\n",
    "Y_test = np.where(Y_test == a, 1, -1)\n",
    "\n",
    "for c in C:\n",
    "    print(\"C:\" + str(c))\n",
    "    z, X, Y = one_v_other_rbf(train, 1, 5, c)\n",
    "    guess = z.predict(X_test)\n",
    "    print(E_in(guess, Y_test))\n",
    "    \n",
    "# C (C = 100) better for out of sample"
   ]
  },
  {
   "cell_type": "code",
   "execution_count": null,
   "metadata": {},
   "outputs": [],
   "source": []
  }
 ],
 "metadata": {
  "kernelspec": {
   "display_name": "Python 3",
   "language": "python",
   "name": "python3"
  },
  "language_info": {
   "codemirror_mode": {
    "name": "ipython",
    "version": 3
   },
   "file_extension": ".py",
   "mimetype": "text/x-python",
   "name": "python",
   "nbconvert_exporter": "python",
   "pygments_lexer": "ipython3",
   "version": "3.6.10"
  }
 },
 "nbformat": 4,
 "nbformat_minor": 4
}
